{
 "cells": [
  {
   "cell_type": "code",
   "execution_count": null,
   "id": "22e14919",
   "metadata": {},
   "outputs": [],
   "source": [
    "** Calculate the multiplication and sum of two numbers"
   ]
  },
  {
   "cell_type": "code",
   "execution_count": 74,
   "id": "fd6c4ec5",
   "metadata": {
    "ExecuteTime": {
     "end_time": "2023-04-05T20:12:33.006407Z",
     "start_time": "2023-04-05T20:12:25.756595Z"
    },
    "scrolled": true
   },
   "outputs": [
    {
     "name": "stdout",
     "output_type": "stream",
     "text": [
      "enter num1: 156446\n",
      "enter num2: 46116\n",
      "the sum of 2 nums is 202562\n",
      "the multiplication of 2 nums is 7214663736\n"
     ]
    }
   ],
   "source": [
    "num1=input(\"enter num1: \")\n",
    "num2=input(\"enter num2: \")\n",
    "sum_num = int(num1)+int(num2)\n",
    "multi_num = int(num1)*int(num2)\n",
    "print(\"the sum of 2 nums is\",sum_num)\n",
    "print(\"the multiplication of 2 nums is\", multi_num)"
   ]
  },
  {
   "cell_type": "code",
   "execution_count": null,
   "id": "0072b334",
   "metadata": {},
   "outputs": [],
   "source": [
    "** Print characters from a string that are present at an even index number"
   ]
  },
  {
   "cell_type": "code",
   "execution_count": null,
   "id": "3c70b3c5",
   "metadata": {
    "ExecuteTime": {
     "end_time": "2023-03-26T20:06:02.435060Z",
     "start_time": "2023-03-26T20:05:58.167068Z"
    },
    "scrolled": true
   },
   "outputs": [],
   "source": [
    "string= input(\"enter any string: \\n\")                          # ask for string input\n",
    "print(\"new string is:\",string[1::2])                           # printing the even index number of string"
   ]
  },
  {
   "cell_type": "markdown",
   "id": "759d04ba",
   "metadata": {},
   "source": [
    "**1-Write a Python program to calculate the length of a string using 2 ways"
   ]
  },
  {
   "cell_type": "code",
   "execution_count": null,
   "id": "e434c950",
   "metadata": {
    "ExecuteTime": {
     "end_time": "2023-03-26T20:11:49.819104Z",
     "start_time": "2023-03-26T20:11:46.098690Z"
    },
    "scrolled": true
   },
   "outputs": [],
   "source": [
    "# using len() \n",
    "string= input(\"enter any string: \\n\")                                          # ask for string input\n",
    "print(\"the string length is: \",len(string))                                       # printing the length of string"
   ]
  },
  {
   "cell_type": "code",
   "execution_count": 14,
   "id": "7e0bbb16",
   "metadata": {
    "ExecuteTime": {
     "end_time": "2023-03-30T23:27:34.767859Z",
     "start_time": "2023-03-30T23:27:32.631700Z"
    }
   },
   "outputs": [
    {
     "name": "stdout",
     "output_type": "stream",
     "text": [
      "enter any string: \n",
      "okba\n",
      "the string length is:  4\n"
     ]
    }
   ],
   "source": [
    "#using for char in string\n",
    "string= input(\"enter any string: \\n\")                                          # ask for string input\n",
    "i = 0\n",
    "for char in string:\n",
    "    i += 1\n",
    "print(\"the string length is: \",i)                                             # printing the length of string"
   ]
  },
  {
   "cell_type": "code",
   "execution_count": 13,
   "id": "6ac3d867",
   "metadata": {
    "ExecuteTime": {
     "end_time": "2023-03-30T23:27:17.299519Z",
     "start_time": "2023-03-30T23:27:15.237298Z"
    }
   },
   "outputs": [
    {
     "name": "stdout",
     "output_type": "stream",
     "text": [
      "enter any string: \n",
      "okba\n",
      "the string length is:  4\n"
     ]
    }
   ],
   "source": [
    "# Using the sum() function with a generator expression\n",
    "string= input(\"enter any string: \\n\")                                          # ask for string input\n",
    "print(\"the string length is: \", sum(1 for i in string))"
   ]
  },
  {
   "cell_type": "markdown",
   "id": "d7cc9da7",
   "metadata": {},
   "source": [
    "**2-Write a Python program to get a string made of the first 2 and last 2 characters of a given string. If the string length is less than 2, return the empty string instead (\"##Sample String : 'w3resource'Expected Result : 'w3ce'##Sample String : 'w3'\n",
    "Expected Result : 'w3w3'##Sample String : ' w'Expected Result : Empty String)"
   ]
  },
  {
   "cell_type": "code",
   "execution_count": 7,
   "id": "9d82c991",
   "metadata": {
    "ExecuteTime": {
     "end_time": "2023-03-30T23:21:33.263908Z",
     "start_time": "2023-03-30T23:21:31.435085Z"
    }
   },
   "outputs": [
    {
     "name": "stdout",
     "output_type": "stream",
     "text": [
      "enter sample string: w\n",
      "Sample String :  w\n",
      "Expected Result :  \n"
     ]
    }
   ],
   "source": [
    "Sample_String=input(\"enter sample string: \")\n",
    "print(\"Sample String : \",Sample_String)\n",
    "if len(Sample_String) < 2:\n",
    "    print(\"Expected Result : \", \"\")  \n",
    "else:\n",
    "    print(\"Expected Result : \", Sample_String[:2] + Sample_String[-2:]) "
   ]
  },
  {
   "cell_type": "code",
   "execution_count": 6,
   "id": "d70808b6",
   "metadata": {
    "ExecuteTime": {
     "end_time": "2023-03-30T23:21:12.690493Z",
     "start_time": "2023-03-30T23:21:09.274642Z"
    }
   },
   "outputs": [
    {
     "name": "stdout",
     "output_type": "stream",
     "text": [
      "enter sample string: w\n",
      "Sample String :  w\n",
      "New_string is:  \n"
     ]
    }
   ],
   "source": [
    "string=input(\"enter sample string: \")\n",
    "print(\"Sample String : \",string)\n",
    "def New_string(string):\n",
    "    if len(string) < 2:\n",
    "        return \"\"\n",
    "    else:\n",
    "        return string[:2] + string[-2:]\n",
    "print ('New_string is: ', New_string(string))"
   ]
  },
  {
   "cell_type": "markdown",
   "id": "1534f956",
   "metadata": {},
   "source": [
    "**3-Write a Python program to add 'ing' at the end of a given string (length should be at least 3). If the given string already ends with 'ing', add 'ly' instead. If the string length of the given string is less than 3, leave it unchanged. (Sample String : 'abc'\n",
    "Expected Result : 'abcing')"
   ]
  },
  {
   "cell_type": "code",
   "execution_count": 8,
   "id": "52b523cd",
   "metadata": {
    "ExecuteTime": {
     "end_time": "2023-03-30T23:23:11.776121Z",
     "start_time": "2023-03-30T23:23:06.065433Z"
    }
   },
   "outputs": [
    {
     "name": "stdout",
     "output_type": "stream",
     "text": [
      "enter sample string: abc\n",
      "sample string:  abc\n",
      "New_string is: abcing\n"
     ]
    }
   ],
   "source": [
    "string=input(\"enter sample string: \")\n",
    "print(\"sample string: \",string)\n",
    "if len(string) >= 3 and string[-3:]== \"ing\":\n",
    "      print ('New_string is:', string[:-3]+\"ly\")\n",
    "elif len(string) >= 3 and string[-3:]!= \"ing\":\n",
    "        print ('New_string is:', string + \"ing\")\n",
    "else:\n",
    "       print ('New_string is:', string)\n"
   ]
  },
  {
   "cell_type": "code",
   "execution_count": 11,
   "id": "7ff8cec4",
   "metadata": {
    "ExecuteTime": {
     "end_time": "2023-03-30T23:26:05.187879Z",
     "start_time": "2023-03-30T23:26:02.013000Z"
    },
    "scrolled": true
   },
   "outputs": [
    {
     "name": "stdout",
     "output_type": "stream",
     "text": [
      "enter sample string: abcing\n",
      "sample string:  abcing\n",
      "New_string is: abcly\n"
     ]
    }
   ],
   "source": [
    "string=input(\"enter sample string: \")\n",
    "print(\"sample string: \",string)\n",
    "def New_string(string):\n",
    "    if len(string) >= 3 and string[-3:]== \"ing\":\n",
    "        return string[:-3]+\"ly\"\n",
    "    elif len(string) >= 3 and string[-3:]!= \"ing\":\n",
    "        return string + \"ing\"\n",
    "    else:\n",
    "        return string\n",
    "print ('New_string is:', New_string(string))"
   ]
  },
  {
   "cell_type": "markdown",
   "id": "1c0a6627",
   "metadata": {},
   "source": [
    "**4-Write a Python function that takes a list of words and return the longest word and the length of the longest one\n",
    "(Longest word: Exercises\n",
    "Length of the longest word: 9)"
   ]
  },
  {
   "cell_type": "code",
   "execution_count": 45,
   "id": "d22035e0",
   "metadata": {
    "ExecuteTime": {
     "end_time": "2023-03-31T00:06:56.954759Z",
     "start_time": "2023-03-31T00:06:43.035110Z"
    }
   },
   "outputs": [
    {
     "name": "stdout",
     "output_type": "stream",
     "text": [
      "Please input words and spacing betn each word : PHP Exercises Backend\n",
      "list of words:  ['PHP', 'Exercises', 'Backend']\n",
      "The longest word is Exercises with length 9\n"
     ]
    }
   ],
   "source": [
    "text = input(\"Please input words and spacing betn each word : \")\n",
    "print(\"list of words: \",text.split())  \n",
    "longest = 0\n",
    "for words in text.split():\n",
    "    if len(words) > longest:\n",
    "        longest = len(words)\n",
    "        longest_word = words\n",
    "\n",
    "print(\"The longest word is\", longest_word, \"with length\", len(longest_word))\n"
   ]
  },
  {
   "cell_type": "code",
   "execution_count": 50,
   "id": "f5638a55",
   "metadata": {
    "ExecuteTime": {
     "end_time": "2023-03-31T00:14:12.361534Z",
     "start_time": "2023-03-31T00:14:04.397504Z"
    }
   },
   "outputs": [
    {
     "name": "stdout",
     "output_type": "stream",
     "text": [
      "Please input words and spacing betn each word : PHP Exercises Backend\n",
      "list of words:  ['PHP', 'Exercises', 'Backend']\n",
      "The longest word is Exercises with length 9\n"
     ]
    }
   ],
   "source": [
    "text = input(\"Please input words and spacing betn each word : \")\n",
    "print(\"list of words: \",text.split()) \n",
    "\n",
    "word_len = []  \n",
    "for n in text.split():  \n",
    "    word_len.append((len(n), n))  \n",
    "    word_len.sort()  \n",
    "print(\"The longest word is\", word_len[-1][1], \"with length\", len(word_len[-1][1]))\n"
   ]
  },
  {
   "cell_type": "code",
   "execution_count": 46,
   "id": "a6813709",
   "metadata": {
    "ExecuteTime": {
     "end_time": "2023-03-31T00:07:41.065600Z",
     "start_time": "2023-03-31T00:07:28.535799Z"
    }
   },
   "outputs": [
    {
     "name": "stdout",
     "output_type": "stream",
     "text": [
      "Please input words and spacing betn each word : PHP Exercises Backend\n",
      "list of words:  ['PHP', 'Exercises', 'Backend']\n",
      "The longest word  and its length is ('Exercises', 9)\n"
     ]
    }
   ],
   "source": [
    "def find_longest_word(text):\n",
    "    longest_word = max(text.split(), key = len)\n",
    "    return longest_word, len(longest_word)\n",
    "text= input(\"Please input words and spacing betn each word : \")\n",
    "print(\"list of words: \",text.split())\n",
    "print(\"The longest word  and its length is\" , find_longest_word(text))"
   ]
  },
  {
   "cell_type": "markdown",
   "id": "53a03a6a",
   "metadata": {},
   "source": [
    "**5-Write a Python program to change a given string to a newly string where the first and last chars have been exchanged using 2 ways (Sample String:abce  Expected Result:ebca)"
   ]
  },
  {
   "cell_type": "code",
   "execution_count": 52,
   "id": "285788b4",
   "metadata": {
    "ExecuteTime": {
     "end_time": "2023-03-31T00:16:39.380714Z",
     "start_time": "2023-03-31T00:16:36.486947Z"
    }
   },
   "outputs": [
    {
     "name": "stdout",
     "output_type": "stream",
     "text": [
      "enter your string: abce\n",
      "new_string after changing is: ebca\n"
     ]
    }
   ],
   "source": [
    "str1=input(\"enter any string: \")\n",
    "change_string=str1[-1:] + str1[1:-1] +str1[:1] \n",
    "print(\"new_string after changing is:\", change_string)\n"
   ]
  },
  {
   "cell_type": "code",
   "execution_count": 53,
   "id": "fd327d2a",
   "metadata": {
    "ExecuteTime": {
     "end_time": "2023-03-31T00:18:12.378678Z",
     "start_time": "2023-03-31T00:18:09.636628Z"
    }
   },
   "outputs": [
    {
     "name": "stdout",
     "output_type": "stream",
     "text": [
      "enter any string: abce\n",
      "new_string after changing is:ebca\n"
     ]
    }
   ],
   "source": [
    "g_string=input(\"enter any string: \")\n",
    "\n",
    "new_string1= g_string.replace(g_string[0],g_string[-1])\n",
    "new_string2= g_string.replace(g_string[-1],g_string[0])\n",
    "new_string=new_string1[0:-1]+new_string2[-1]\n",
    "print(\"new_string after changing is:\" + new_string)"
   ]
  },
  {
   "cell_type": "markdown",
   "id": "25f89808",
   "metadata": {},
   "source": [
    "**6-Write a Python program to remove characters that have odd index values in a given string (Sample String:abca Expected Result:ac)"
   ]
  },
  {
   "cell_type": "code",
   "execution_count": 75,
   "id": "85530623",
   "metadata": {
    "ExecuteTime": {
     "end_time": "2023-03-31T00:43:36.586263Z",
     "start_time": "2023-03-31T00:43:33.463148Z"
    }
   },
   "outputs": [
    {
     "name": "stdout",
     "output_type": "stream",
     "text": [
      "enter any string: abca\n",
      "ac\n"
     ]
    }
   ],
   "source": [
    "string=input(\"enter any string: \")\n",
    "New_string=\"\"\n",
    "for i in str1[::2]:\n",
    "    New_string+=i    \n",
    "print(\"new_string is:\",New_string)\n",
    "   "
   ]
  },
  {
   "cell_type": "code",
   "execution_count": 76,
   "id": "5a985a47",
   "metadata": {
    "ExecuteTime": {
     "end_time": "2023-03-31T00:44:56.151566Z",
     "start_time": "2023-03-31T00:44:53.767236Z"
    }
   },
   "outputs": [
    {
     "name": "stdout",
     "output_type": "stream",
     "text": [
      "enter any string: abca\n",
      "new_string is: ac\n"
     ]
    }
   ],
   "source": [
    "str1=input(\"enter any string: \")\n",
    "New_string=\"\"\n",
    "for i in range(0,len(str1),2) :\n",
    "    New_string+=str1[i]\n",
    "print(\"new_string is:\",New_string)\n"
   ]
  },
  {
   "cell_type": "markdown",
   "id": "721babd4",
   "metadata": {},
   "source": [
    "**7-Write a Python program to count the occurrences of each word in a given sentence (Sample String:amr and ahmed are frindes but amr is the tallest Expected Result:2)"
   ]
  },
  {
   "cell_type": "code",
   "execution_count": null,
   "id": "01ce6cf5",
   "metadata": {
    "ExecuteTime": {
     "end_time": "2023-03-29T13:15:05.535043Z",
     "start_time": "2023-03-29T13:15:01.374196Z"
    }
   },
   "outputs": [],
   "source": [
    "str1= input ('enter the sentence:\\n') \n",
    "str2= input('enter the word you need to count:\\n')\n",
    "print(\"the count of word you need is:\",str1.count(str2))"
   ]
  },
  {
   "cell_type": "code",
   "execution_count": 87,
   "id": "d824cd67",
   "metadata": {
    "ExecuteTime": {
     "end_time": "2023-03-31T01:16:05.010069Z",
     "start_time": "2023-03-31T01:15:48.227346Z"
    }
   },
   "outputs": [
    {
     "name": "stdout",
     "output_type": "stream",
     "text": [
      "enter the sentence: amr and ahmed are frindes but amr is the tallest\n",
      "Set of words:  {'are', 'the', 'ahmed', 'frindes', 'tallest', 'is', 'amr', 'but', 'and'}\n",
      "are is appeared  1\n",
      "the is appeared  1\n",
      "ahmed is appeared  1\n",
      "frindes is appeared  1\n",
      "tallest is appeared  1\n",
      "is is appeared  1\n",
      "amr is appeared  2\n",
      "but is appeared  1\n",
      "and is appeared  1\n"
     ]
    }
   ],
   "source": [
    "str1= input(\"enter the sentence: \") \n",
    "new_str1=set(str1.split())\n",
    "print (\"Set of words: \",new_str1)\n",
    "for i in new_str1:\n",
    "    occu=str1.count(i)\n",
    "    print(i,\"is appeared \",occu)"
   ]
  },
  {
   "cell_type": "markdown",
   "id": "4e8125f1",
   "metadata": {},
   "source": [
    "**8-Write a Python script that takes input from the user and displays that input back in upper and lower cases"
   ]
  },
  {
   "cell_type": "code",
   "execution_count": 88,
   "id": "66c8f778",
   "metadata": {
    "ExecuteTime": {
     "end_time": "2023-03-31T01:18:54.820166Z",
     "start_time": "2023-03-31T01:18:34.749146Z"
    }
   },
   "outputs": [
    {
     "name": "stdout",
     "output_type": "stream",
     "text": [
      "enter any string:\n",
      "MAhmoud HaSSAn OkbA\n",
      "the uppercase of string is:  MAHMOUD HASSAN OKBA\n",
      "the lowercase of string is:  mahmoud hassan okba\n",
      "the swapcase of string is:  maHMOUD hAssaN oKBa\n"
     ]
    }
   ],
   "source": [
    "str1=input(\"enter any string:\\n\")\n",
    "print(\"the uppercase of string is: \",str1.upper())\n",
    "print(\"the lowercase of string is: \",str1.lower())\n",
    "print(\"the swapcase of string is: \",str1.swapcase())"
   ]
  },
  {
   "cell_type": "markdown",
   "id": "fcd68aa1",
   "metadata": {},
   "source": [
    "**9-Write a Python function to reverse a string if its length is a multiple of 4"
   ]
  },
  {
   "cell_type": "code",
   "execution_count": 93,
   "id": "b3b94e86",
   "metadata": {
    "ExecuteTime": {
     "end_time": "2023-03-31T01:24:42.848171Z",
     "start_time": "2023-03-31T01:24:39.064969Z"
    }
   },
   "outputs": [
    {
     "name": "stdout",
     "output_type": "stream",
     "text": [
      "enter your string: okba\n",
      "original string is:  okba\n",
      "your new string is: abko\n"
     ]
    }
   ],
   "source": [
    "str1=input('enter your string: ')\n",
    "print(\"original string is: \",str1)\n",
    "if len(str1) % 4 == 0:\n",
    "    new_string=str1[::-1] \n",
    "    print(\"your new string is:\",new_string)\n",
    "else:\n",
    "    print(\"your string length isn't multiple of 4\")"
   ]
  },
  {
   "cell_type": "code",
   "execution_count": 95,
   "id": "0671a931",
   "metadata": {
    "ExecuteTime": {
     "end_time": "2023-03-31T01:26:19.751208Z",
     "start_time": "2023-03-31T01:26:16.837457Z"
    }
   },
   "outputs": [
    {
     "name": "stdout",
     "output_type": "stream",
     "text": [
      "enter your string: mahmoud\n",
      "your string length isn't multiple of 4\n"
     ]
    }
   ],
   "source": [
    "str1=input('enter your string: ')\n",
    "new=list(str1)\n",
    "if len(str1) % 4 == 0:\n",
    "    new_string=''.join(reversed(str1))\n",
    "    print(\"your new string is:\",new_string)\n",
    "else:\n",
    "    print(\"your string length isn't multiple of 4\")"
   ]
  },
  {
   "cell_type": "markdown",
   "id": "b577c68d",
   "metadata": {},
   "source": [
    "**10- Write a Python program to remove a newline in Python"
   ]
  },
  {
   "cell_type": "code",
   "execution_count": 48,
   "id": "949640fd",
   "metadata": {
    "ExecuteTime": {
     "end_time": "2023-03-31T12:17:17.997937Z",
     "start_time": "2023-03-31T12:17:05.565002Z"
    }
   },
   "outputs": [
    {
     "name": "stdout",
     "output_type": "stream",
     "text": [
      " enter any text: \\n\\n hello! \\n how are you?\\n\n",
      "text before:  \\n\\n hello! \\n how are you?\\n\n",
      "new text is:  \\n\\n hello! \\n how are you?\\n\n"
     ]
    }
   ],
   "source": [
    "sample_text =\"\\n\\n hello! \\n how are you?\\n\"\n",
    "#sample_text=input(\" enter any text: \")\n",
    "print(\"text before: \", sample_text)\n",
    "print(\"new text is: \", sample_text.replace(\"\\n\",\"\"))"
   ]
  },
  {
   "cell_type": "code",
   "execution_count": 42,
   "id": "6eb62b58",
   "metadata": {
    "ExecuteTime": {
     "end_time": "2023-03-31T12:10:13.712348Z",
     "start_time": "2023-03-31T12:10:13.700355Z"
    },
    "scrolled": true
   },
   "outputs": [
    {
     "name": "stdout",
     "output_type": "stream",
     "text": [
      "text before:  \n",
      "\n",
      "hello! \n",
      " how are you?\n",
      "\n",
      "new text with strip fn is:  hello! \n",
      " how are you?\n",
      "new text with rstrip fn is:  \n",
      "\n",
      "hello! \n",
      " how are you?\n",
      "new text with lstrip fn is:  hello! \n",
      " how are you?\n",
      "\n"
     ]
    }
   ],
   "source": [
    "sample_text =\"\\n\\n hello! \\n how are you?\\n\"\n",
    "#sample_text=input(\" enter any text: \")\n",
    "print(\"text before: \", sample_text)\n",
    "print(\"new text with strip fn is: \", sample_text.strip())           # str.strip()or str.strip('\\n') ,remove all whitespace from start/end of string.\n",
    "print(\"new text with rstrip fn is: \", sample_text.rstrip())         #str.rstrip()or str.rstrip('\\n'),remove all newline for the end of string.\n",
    "print(\"new text with lstrip fn is: \", sample_text.lstrip())         #str.lstrip()or str.lstrip('\\n'),remove all whitespaces for the start of string."
   ]
  },
  {
   "cell_type": "markdown",
   "id": "80db5ae0",
   "metadata": {},
   "source": [
    "**11-Write a Python program to check whether a string starts with specified characters"
   ]
  },
  {
   "cell_type": "code",
   "execution_count": null,
   "id": "0cc4e03e",
   "metadata": {
    "ExecuteTime": {
     "end_time": "2023-03-24T19:26:12.892369Z",
     "start_time": "2023-03-24T19:26:09.118928Z"
    }
   },
   "outputs": [],
   "source": [
    "string1=input(\"enter any string: \\n\")\n",
    "char1=input(\"enter the character you need to compare: \\n\")\n",
    "if char1==string1[0]:\n",
    "    print (\"it is okay\")\n",
    "else:\n",
    "    print (\"it is wrong\")\n",
    "             "
   ]
  },
  {
   "cell_type": "markdown",
   "id": "593a68db",
   "metadata": {},
   "source": [
    "**12- Write a Python program to add prefix text to all of the lines in a string"
   ]
  },
  {
   "cell_type": "code",
   "execution_count": 62,
   "id": "61eb2227",
   "metadata": {
    "ExecuteTime": {
     "end_time": "2023-03-31T12:35:18.744396Z",
     "start_time": "2023-03-31T12:35:18.721390Z"
    },
    "scrolled": true
   },
   "outputs": [
    {
     "name": "stdout",
     "output_type": "stream",
     "text": [
      "sample_text after splitting ['', 'my name is mahmoud okba ', 'works as senior qc engineer', '']\n",
      "New_text after adding prefix:\n",
      " *\n",
      "*my name is mahmoud okba \n",
      "*works as senior qc engineer\n",
      "*\n"
     ]
    }
   ],
   "source": [
    "prefix= '*'\n",
    "sample_text ='''\n",
    "my name is mahmoud okba \n",
    "works as senior qc engineer\n",
    "'''\n",
    "print(\"sample_text after splitting\",sample_text.split('\\n'))\n",
    "result = '\\n'.join(prefix + line for line in sample_text.split('\\n'))\n",
    "print(\"New_text after adding prefix:\\n\",result)"
   ]
  },
  {
   "cell_type": "code",
   "execution_count": 92,
   "id": "7e838fa0",
   "metadata": {
    "ExecuteTime": {
     "end_time": "2023-03-31T12:51:33.487933Z",
     "start_time": "2023-03-31T12:51:33.475941Z"
    },
    "scrolled": false
   },
   "outputs": [
    {
     "name": "stdout",
     "output_type": "stream",
     "text": [
      "sample_text after splitting:  ['', 'myname is mahmoud okba ', 'works as senior qc engineer', '']\n",
      "New_text after adding prefix:\n",
      " *\n",
      "New_text after adding prefix:\n",
      " *myname is mahmoud okba \n",
      "New_text after adding prefix:\n",
      " *works as senior qc engineer\n",
      "New_text after adding prefix:\n",
      " *\n"
     ]
    }
   ],
   "source": [
    "prefix= '*'\n",
    "sample_text ='''\n",
    "myname is mahmoud okba \n",
    "works as senior qc engineer\n",
    "'''\n",
    "splittext=sample_text.split('\\n')\n",
    "print(\"sample_text after splitting: \",splittext)\n",
    "\n",
    "for i in range (0,len(splittext)):\n",
    "    print(\"New_text after adding prefix:\\n\",''.join(prefix+splittext[i]))\n"
   ]
  },
  {
   "cell_type": "markdown",
   "id": "86fa1543",
   "metadata": {},
   "source": [
    "**13-Write a Python program to print the following numbers up to 2 decimal places"
   ]
  },
  {
   "cell_type": "code",
   "execution_count": null,
   "id": "cd4a9d89",
   "metadata": {
    "ExecuteTime": {
     "end_time": "2023-03-29T13:26:57.506227Z",
     "start_time": "2023-03-29T13:26:51.306677Z"
    }
   },
   "outputs": [],
   "source": [
    "float_num =float(input(\"please enter a float number:\\n\")) \n",
    "format_float = \"{:.2f}\".format(float_num)\n",
    "print(\"new number is : \", format_float)"
   ]
  },
  {
   "cell_type": "code",
   "execution_count": null,
   "id": "3398f6b2",
   "metadata": {
    "ExecuteTime": {
     "end_time": "2023-03-29T13:28:02.954776Z",
     "start_time": "2023-03-29T13:27:51.085507Z"
    }
   },
   "outputs": [],
   "source": [
    "float_num =float(input(\"please enter a float number:\\n\")) \n",
    "limit_float = round(float_num,2)\n",
    "print(\"new number is : \", limit_float)"
   ]
  },
  {
   "cell_type": "markdown",
   "id": "452c0ab0",
   "metadata": {},
   "source": [
    "**14-Write a Python program to print the following numbers up to 2 decimal places with a sign"
   ]
  },
  {
   "cell_type": "code",
   "execution_count": null,
   "id": "73e82479",
   "metadata": {
    "ExecuteTime": {
     "end_time": "2023-03-29T13:31:02.713329Z",
     "start_time": "2023-03-29T13:30:52.222022Z"
    }
   },
   "outputs": [],
   "source": [
    "num1=float(input(\"please enter num1 with +ve sign:\")) \n",
    "num2=float(input(\"please enter num2 with -ve sign:\")) \n",
    "print(\"Original Number: \", num1)\n",
    "print(\"New Number with sign is: \",\"{:+.2f}\".format(num1));\n",
    "print(\"Original Number: \", num2)\n",
    "print(\"New Number with sign is: \",\"{:+.2f}\".format(num2));"
   ]
  },
  {
   "cell_type": "code",
   "execution_count": null,
   "id": "579c60cc",
   "metadata": {
    "ExecuteTime": {
     "end_time": "2023-03-29T13:33:53.687799Z",
     "start_time": "2023-03-29T13:33:48.548852Z"
    }
   },
   "outputs": [],
   "source": [
    "num=float(input(\"please enter num with -ve/+ve sign:\")) \n",
    "print(\"Original Number: \", num)\n",
    "print(\"New Number with sign is: \",\"{:+.2f}\".format(num));"
   ]
  },
  {
   "cell_type": "markdown",
   "id": "32b1811a",
   "metadata": {},
   "source": [
    "**15-Write a Python program to display a number with a comma separator"
   ]
  },
  {
   "cell_type": "code",
   "execution_count": null,
   "id": "f30fc0b6",
   "metadata": {
    "ExecuteTime": {
     "end_time": "2023-03-29T13:39:58.915157Z",
     "start_time": "2023-03-29T13:39:53.861391Z"
    }
   },
   "outputs": [],
   "source": [
    "num=float(input(\"please enter any number:\")) \n",
    "print(\"Original Number: \", num)\n",
    "print(\"New Number with comma separator: \"+'{:,.2f}'.format(num))"
   ]
  },
  {
   "cell_type": "code",
   "execution_count": 137,
   "id": "297a6e59",
   "metadata": {
    "ExecuteTime": {
     "end_time": "2023-03-31T21:40:19.662999Z",
     "start_time": "2023-03-31T21:40:17.492615Z"
    }
   },
   "outputs": [
    {
     "name": "stdout",
     "output_type": "stream",
     "text": [
      "please enter any number:13463\n",
      "Original Number:  13463\n",
      "New Number with comma separator:  1,3,4,6,3\n"
     ]
    }
   ],
   "source": [
    "num=input(\"please enter any number:\")\n",
    "x=''\n",
    "for i in num:\n",
    "    x=x+i+','\n",
    "print(\"Original Number: \", num)\n",
    "print(\"New Number with comma separator: \", x[:-1])"
   ]
  },
  {
   "cell_type": "markdown",
   "id": "0477f487",
   "metadata": {},
   "source": [
    "**16-Write a Python program to reverse a string using 2 ways"
   ]
  },
  {
   "cell_type": "code",
   "execution_count": 111,
   "id": "ccbf1169",
   "metadata": {
    "ExecuteTime": {
     "end_time": "2023-03-31T21:11:33.767178Z",
     "start_time": "2023-03-31T21:11:28.178521Z"
    }
   },
   "outputs": [
    {
     "name": "stdout",
     "output_type": "stream",
     "text": [
      "enter any string: okba\n",
      "The Orignal string is :  okba\n",
      "The reversed string is :  abko\n"
     ]
    }
   ],
   "source": [
    "string=input(\"enter any string: \")\n",
    "reversestring = string[::-1]\n",
    "print(\"The Orignal string is : \", string)\n",
    "print(\"The reversed string is : \",reversestring)\n"
   ]
  },
  {
   "cell_type": "code",
   "execution_count": 119,
   "id": "aa8beec8",
   "metadata": {
    "ExecuteTime": {
     "end_time": "2023-03-31T21:24:19.287420Z",
     "start_time": "2023-03-31T21:24:17.110438Z"
    }
   },
   "outputs": [
    {
     "name": "stdout",
     "output_type": "stream",
     "text": [
      "enter any string: okba\n",
      "The original string is :  okba\n",
      "The reversed string(using loops) is :  abko\n"
     ]
    }
   ],
   "source": [
    "string=input(\"enter any string: \")\n",
    "newstring = \"\"\n",
    "for i in string:\n",
    "    newstring = i +newstring\n",
    "print(\"The original string is : \", string)\n",
    "print(\"The reversed string(using loops) is : \", newstring)\n"
   ]
  },
  {
   "cell_type": "code",
   "execution_count": 121,
   "id": "e33566b5",
   "metadata": {
    "ExecuteTime": {
     "end_time": "2023-03-31T21:26:14.019817Z",
     "start_time": "2023-03-31T21:26:09.959839Z"
    }
   },
   "outputs": [
    {
     "name": "stdout",
     "output_type": "stream",
     "text": [
      "enter any string: okba\n",
      "The original string is :  okba\n",
      "The reversed string(using reversed) is :  abko\n"
     ]
    }
   ],
   "source": [
    "string=input(\"enter any string: \")\n",
    "list1 = list(string)\n",
    "reversestring = \"\".join(reversed(list1))\n",
    "print(\"The original string is : \", string)\n",
    "print(\"The reversed string(using reversed) is : \", reversestring)"
   ]
  },
  {
   "cell_type": "code",
   "execution_count": 123,
   "id": "ec17e58f",
   "metadata": {
    "ExecuteTime": {
     "end_time": "2023-03-31T21:27:48.382554Z",
     "start_time": "2023-03-31T21:27:46.388830Z"
    }
   },
   "outputs": [
    {
     "name": "stdout",
     "output_type": "stream",
     "text": [
      "enter any string: okba\n",
      "The original string is :  okba\n",
      "The reversed string(using reverse()) is :  abko\n"
     ]
    }
   ],
   "source": [
    "string=input(\"enter any string: \")\n",
    "list1 = list(string)\n",
    "list1.reverse()\n",
    "print(\"The original string is : \", string)\n",
    "print(\"The reversed string(using reverse()) is : \", \"\".join(list1))"
   ]
  },
  {
   "cell_type": "markdown",
   "id": "5afc3166",
   "metadata": {},
   "source": [
    " **17-Write a Python program to count repeated characters in a string (hint:use dictionary)"
   ]
  },
  {
   "cell_type": "code",
   "execution_count": 149,
   "id": "515a469c",
   "metadata": {
    "ExecuteTime": {
     "end_time": "2023-04-02T20:49:24.360993Z",
     "start_time": "2023-04-02T20:49:24.348018Z"
    }
   },
   "outputs": [
    {
     "name": "stdout",
     "output_type": "stream",
     "text": [
      "the sample string is :  mahmoudhassanokba\n",
      "the char:  o  is repeated:  2\n",
      "the char:  m  is repeated:  2\n",
      "the char:  k  is repeated:  1\n",
      "the char:  b  is repeated:  1\n",
      "the char:  n  is repeated:  1\n",
      "the char:  u  is repeated:  1\n",
      "the char:  a  is repeated:  4\n",
      "the char:  d  is repeated:  1\n",
      "the char:  h  is repeated:  2\n",
      "the char:  s  is repeated:  2\n"
     ]
    }
   ],
   "source": [
    "sample_string='mahmoudhassanokba'\n",
    "test_set=set(sample_string)\n",
    "print(\"the sample string is : \",sample_string)\n",
    "for i in test_set:\n",
    "    result=sample_string.count(i)\n",
    "    print(\"the char: \",i , \" is repeated: \",result)\n"
   ]
  },
  {
   "cell_type": "markdown",
   "id": "ae14e4e5",
   "metadata": {},
   "source": [
    "**18-Write a Python program to find the first non-repeating character in a given string"
   ]
  },
  {
   "cell_type": "code",
   "execution_count": 171,
   "id": "d73778e5",
   "metadata": {
    "ExecuteTime": {
     "end_time": "2023-04-02T21:11:22.264223Z",
     "start_time": "2023-04-02T21:11:17.788433Z"
    }
   },
   "outputs": [
    {
     "name": "stdout",
     "output_type": "stream",
     "text": [
      "enter any string: mahmodhassanokba\n",
      "the sample string is :  mahmodhassanokba\n",
      "there is no non-repeating character\n",
      "there is no non-repeating character\n",
      "there is no non-repeating character\n",
      "there is no non-repeating character\n",
      "there is no non-repeating character\n",
      "the first non-repeating character is:  d\n"
     ]
    }
   ],
   "source": [
    "sample_string = input(\"enter any string: \")\n",
    "print(\"the sample string is : \",sample_string)\n",
    "for i in sample_string:\n",
    "    if sample_string.count(i)==1:\n",
    "        print (\"the first non-repeating character is: \", i)\n",
    "        break\n",
    "   "
   ]
  },
  {
   "cell_type": "markdown",
   "id": "3adf5669",
   "metadata": {},
   "source": [
    "**19-Write a Python program to remove spaces from a given string"
   ]
  },
  {
   "cell_type": "code",
   "execution_count": 172,
   "id": "37405fb5",
   "metadata": {
    "ExecuteTime": {
     "end_time": "2023-04-02T21:12:29.737326Z",
     "start_time": "2023-04-02T21:12:24.367298Z"
    }
   },
   "outputs": [
    {
     "name": "stdout",
     "output_type": "stream",
     "text": [
      "please enter a string: mahmoud hassan okba\n",
      "New String after removing space mahmoudhassanokba\n"
     ]
    }
   ],
   "source": [
    "str=input(\"please enter a string: \")\n",
    "new_str=str.replace(' ','')\n",
    "print(\"New String after removing space\", new_str)"
   ]
  },
  {
   "cell_type": "code",
   "execution_count": null,
   "id": "b4f22602",
   "metadata": {
    "ExecuteTime": {
     "end_time": "2023-03-29T14:10:47.013278Z",
     "start_time": "2023-03-29T14:10:40.238676Z"
    }
   },
   "outputs": [],
   "source": [
    "str=input(\"please enter a string: \")\n",
    "def remove_spaces(str1):\n",
    "  str1 =str1.replace(' ','')\n",
    "  return str1\n",
    "print(\"New String after removing space\", remove_spaces(str))\n"
   ]
  },
  {
   "cell_type": "markdown",
   "id": "734de60c",
   "metadata": {},
   "source": [
    "**20-Write a Python program to count the number of non-empty substrings of a given string"
   ]
  },
  {
   "cell_type": "code",
   "execution_count": null,
   "id": "ca56d310",
   "metadata": {
    "ExecuteTime": {
     "end_time": "2023-03-29T14:16:27.877541Z",
     "start_time": "2023-03-29T14:16:26.109713Z"
    }
   },
   "outputs": [],
   "source": [
    "str1 = input(\"Input a string: \")\n",
    "str_len = len(str1)\n",
    "substr_no=int(str_len * (str_len + 1) / 2)\n",
    "print(\"Number of substrings : \",substr_no) "
   ]
  },
  {
   "cell_type": "code",
   "execution_count": 174,
   "id": "ef3f2274",
   "metadata": {
    "ExecuteTime": {
     "end_time": "2023-04-02T21:16:07.641255Z",
     "start_time": "2023-04-02T21:16:03.772305Z"
    }
   },
   "outputs": [
    {
     "name": "stdout",
     "output_type": "stream",
     "text": [
      "Input a string: mahmoud hassan okba\n",
      "Number of substrings :  190\n"
     ]
    }
   ],
   "source": [
    "str1 = input(\"Input a string: \")\n",
    "def substr(str):\n",
    "    str_len = len(str) \n",
    "    return int(str_len * (str_len + 1) / 2)\n",
    "print(\"Number of substrings : \",substr(str1)) \n"
   ]
  },
  {
   "cell_type": "markdown",
   "id": "509998e2",
   "metadata": {},
   "source": [
    "**21-write a Python program to swap first and last element of any list."
   ]
  },
  {
   "cell_type": "code",
   "execution_count": 199,
   "id": "96cbe827",
   "metadata": {
    "ExecuteTime": {
     "end_time": "2023-04-02T21:36:12.992685Z",
     "start_time": "2023-04-02T21:36:05.414726Z"
    }
   },
   "outputs": [
    {
     "name": "stdout",
     "output_type": "stream",
     "text": [
      "enter   alist of element 45 11 15 9 56 17\n",
      "the sample list is :  ['45', '11', '15', '9', '56', '17']\n",
      "the swapped 1st & last element in list is :  ['17', '11', '15', '9', '56', '45']\n"
     ]
    }
   ],
   "source": [
    "input_list=input(\"enter   alist of element \")\n",
    "sample_list=input_list.split()\n",
    "print(\"the sample list is : \",sample_list)\n",
    "x = sample_list[0]\n",
    "sample_list[0] = sample_list[- 1]\n",
    "sample_list[- 1] = x\n",
    "print(\"the swapped 1st & last element in list is : \",sample_list) "
   ]
  },
  {
   "cell_type": "code",
   "execution_count": 200,
   "id": "6676caa0",
   "metadata": {
    "ExecuteTime": {
     "end_time": "2023-04-02T21:36:18.324765Z",
     "start_time": "2023-04-02T21:36:18.305774Z"
    }
   },
   "outputs": [
    {
     "name": "stdout",
     "output_type": "stream",
     "text": [
      "the sample list is :  [45, 11, 15, 9, 56, 17]\n",
      "the swapped 1st & last element in list is :  [17, 11, 15, 9, 56, 45]\n"
     ]
    }
   ],
   "source": [
    "sample_list= [45, 11, 15, 9, 56, 17]\n",
    "print(\"the sample list is : \",sample_list)\n",
    "sample_list[0], sample_list[-1] = sample_list[-1], sample_list[0]\n",
    "print(\"the swapped 1st & last element in list is : \",sample_list) "
   ]
  },
  {
   "cell_type": "code",
   "execution_count": 201,
   "id": "aa78a290",
   "metadata": {
    "ExecuteTime": {
     "end_time": "2023-04-02T21:36:20.075344Z",
     "start_time": "2023-04-02T21:36:20.054335Z"
    }
   },
   "outputs": [
    {
     "name": "stdout",
     "output_type": "stream",
     "text": [
      "the sample list is :  [45, 11, 15, 9, 56, 17]\n",
      "the swapped 1st & last element in list is :  [17, 11, 15, 9, 56, 45]\n"
     ]
    }
   ],
   "source": [
    "sample_list= [45, 11, 15, 9, 56, 17]\n",
    "print(\"the sample list is : \",sample_list)\n",
    "first = sample_list.pop(0) \n",
    "last = sample_list.pop(-1)\n",
    "sample_list.insert(0, last) \n",
    "sample_list.append(first)\n",
    "print(\"the swapped 1st & last element in list is : \",sample_list) "
   ]
  },
  {
   "cell_type": "markdown",
   "id": "959e0837",
   "metadata": {},
   "source": [
    "**22-Given a list in Python and provided the positions of the elements, write a program to swap the two elements in the list. (Input : List = [23, 65, 19, 90], pos1 = 1, pos2 = 3\n",
    "Output : [19, 65, 23, 90])"
   ]
  },
  {
   "cell_type": "code",
   "execution_count": 202,
   "id": "225d8c6d",
   "metadata": {
    "ExecuteTime": {
     "end_time": "2023-04-02T21:36:52.840327Z",
     "start_time": "2023-04-02T21:36:52.825323Z"
    },
    "scrolled": true
   },
   "outputs": [
    {
     "name": "stdout",
     "output_type": "stream",
     "text": [
      "the sample list is :  [23, 65, 19, 90]\n",
      "the swapped 1st & 3rd element in list is :  [19, 65, 23, 90]\n"
     ]
    }
   ],
   "source": [
    "sample_list=[23, 65, 19, 90]\n",
    "print(\"the sample list is : \",sample_list)\n",
    "sample_list[0:3]=reversed(sample_list[0:3])\n",
    "print(\"the swapped 1st & 3rd element in list is : \",sample_list) "
   ]
  },
  {
   "cell_type": "code",
   "execution_count": 203,
   "id": "ac6e2b78",
   "metadata": {
    "ExecuteTime": {
     "end_time": "2023-04-02T21:37:42.650682Z",
     "start_time": "2023-04-02T21:37:42.635693Z"
    }
   },
   "outputs": [
    {
     "name": "stdout",
     "output_type": "stream",
     "text": [
      "the sample list is :  [23, 65, 19, 90]\n",
      "the swapped 1st & 3rd element in list is :  [19, 65, 23, 90]\n"
     ]
    }
   ],
   "source": [
    "sample_list= [23, 65, 19, 90]\n",
    "print(\"the sample list is : \",sample_list)\n",
    "sample_list[0], sample_list[2] = sample_list[2], sample_list[0]\n",
    "print(\"the swapped 1st & 3rd element in list is : \",sample_list) "
   ]
  },
  {
   "cell_type": "markdown",
   "id": "66fc6682",
   "metadata": {},
   "source": [
    "**23- search for the all ways to know the length of the list"
   ]
  },
  {
   "cell_type": "code",
   "execution_count": 205,
   "id": "bb1fe9c9",
   "metadata": {
    "ExecuteTime": {
     "end_time": "2023-04-02T21:40:17.057120Z",
     "start_time": "2023-04-02T21:39:56.710102Z"
    }
   },
   "outputs": [
    {
     "name": "stdout",
     "output_type": "stream",
     "text": [
      "enter a list of element py java php js c c++\n",
      "the sample list is :  ['py', 'java', 'php', 'js', 'c', 'c++']\n",
      "the length of the list is :  6\n"
     ]
    }
   ],
   "source": [
    "input_list=input(\"enter a list of element \")\n",
    "sample_list=input_list.split()\n",
    "print(\"the sample list is : \",sample_list)\n",
    "print(\"the length of the list is : \", len(sample_list)) "
   ]
  },
  {
   "cell_type": "code",
   "execution_count": 206,
   "id": "5bcacd62",
   "metadata": {
    "ExecuteTime": {
     "end_time": "2023-04-02T21:42:03.254150Z",
     "start_time": "2023-04-02T21:41:51.723308Z"
    }
   },
   "outputs": [
    {
     "name": "stdout",
     "output_type": "stream",
     "text": [
      "enter a list of element py java php js c c++\n",
      "the sample list is :  ['py', 'java', 'php', 'js', 'c', 'c++']\n",
      "the length of the list is :  6\n"
     ]
    }
   ],
   "source": [
    "input_list=input(\"enter a list of element \")\n",
    "sample_list=input_list.split()\n",
    "print(\"the sample list is : \",sample_list)\n",
    "length = 0\n",
    "for i in sample_list:\n",
    "    length += 1\n",
    "print(\"the length of the list is : \", length) "
   ]
  },
  {
   "cell_type": "code",
   "execution_count": null,
   "id": "63ff8b43",
   "metadata": {},
   "outputs": [],
   "source": [
    "**24-write a Python code to find the Maximum number of list of numbers."
   ]
  },
  {
   "cell_type": "code",
   "execution_count": 211,
   "id": "15f342de",
   "metadata": {
    "ExecuteTime": {
     "end_time": "2023-04-02T21:47:21.577039Z",
     "start_time": "2023-04-02T21:47:20.008489Z"
    }
   },
   "outputs": [
    {
     "name": "stdout",
     "output_type": "stream",
     "text": [
      "enter a list of numbers 23 65 19 90\n",
      "the sample list is :  [23, 65, 19, 90]\n",
      "the length of the list is :  90\n"
     ]
    }
   ],
   "source": [
    "input_list=input(\"enter a list of numbers \")\n",
    "sample_list=input_list.split()\n",
    "\n",
    "for i in range (0,len(sample_list)):\n",
    "    sample_list[i]=int(sample_list[i])\n",
    "\n",
    "print(\"the sample list is : \",sample_list)\n",
    "print(\"the length of the list is : \", max(sample_list)) \n"
   ]
  },
  {
   "cell_type": "code",
   "execution_count": null,
   "id": "1a89b9d3",
   "metadata": {},
   "outputs": [],
   "source": [
    "**25-write a Python code to find the Minimum number of list of numbers."
   ]
  },
  {
   "cell_type": "code",
   "execution_count": 212,
   "id": "21f8cbd6",
   "metadata": {
    "ExecuteTime": {
     "end_time": "2023-04-02T21:47:46.231945Z",
     "start_time": "2023-04-02T21:47:39.662484Z"
    }
   },
   "outputs": [
    {
     "name": "stdout",
     "output_type": "stream",
     "text": [
      "enter a list of numbers 23 65 19 90\n",
      "the sample list is :  [23, 65, 19, 90]\n",
      "the length of the list is :  19\n"
     ]
    }
   ],
   "source": [
    "input_list=input(\"enter a list of numbers \")\n",
    "sample_list=input_list.split()\n",
    "\n",
    "for i in range (0,len(sample_list)):\n",
    "    sample_list[i]=int(sample_list[i])\n",
    "\n",
    "print(\"the sample list is : \",sample_list)\n",
    "print(\"the length of the list is : \", min(sample_list)) "
   ]
  },
  {
   "cell_type": "markdown",
   "id": "96822d96",
   "metadata": {},
   "source": [
    "**26-search for if an elem is existing in list"
   ]
  },
  {
   "cell_type": "code",
   "execution_count": 214,
   "id": "51ca5c9a",
   "metadata": {
    "ExecuteTime": {
     "end_time": "2023-04-02T21:54:15.980969Z",
     "start_time": "2023-04-02T21:54:12.618010Z"
    }
   },
   "outputs": [
    {
     "name": "stdout",
     "output_type": "stream",
     "text": [
      "enter a list of numbers 15 63 48 952 444 15 234 76 61 \n",
      "the sample list is :  [15, 63, 48, 952, 444, 15, 234, 76, 61]\n",
      "enter the element you need to check: 952\n",
      "the element you need to check:  952\n",
      "element is found and it's index:  3\n"
     ]
    }
   ],
   "source": [
    "input_list=input(\"enter a list of numbers \")\n",
    "sample_list=input_list.split()\n",
    "for i in range (0,len(sample_list)):\n",
    "    sample_list[i]=int(sample_list[i])\n",
    "print(\"the sample list is : \",sample_list)\n",
    "\n",
    "ele=int(input(\"enter the element you need to check: \"))\n",
    "\n",
    "print(\"the element you need to check: \", ele)\n",
    "\n",
    "for i in range(0,len(sample_list)):\n",
    "    if ele==sample_list[i]:\n",
    "        print(\"element is found and it's index: \",i) \n",
    "    "
   ]
  },
  {
   "cell_type": "markdown",
   "id": "d9557da7",
   "metadata": {},
   "source": [
    "**27- clear python list using different ways"
   ]
  },
  {
   "cell_type": "code",
   "execution_count": 215,
   "id": "b69858a3",
   "metadata": {
    "ExecuteTime": {
     "end_time": "2023-04-03T11:14:27.437501Z",
     "start_time": "2023-04-03T11:14:27.430505Z"
    }
   },
   "outputs": [
    {
     "name": "stdout",
     "output_type": "stream",
     "text": [
      "original list is:  [25, 63, 78, 19, 12, 776]\n",
      "New list is:  []\n"
     ]
    }
   ],
   "source": [
    "list1=[25,63,78,19,12,776]\n",
    "print (\"original list is: \", list1)\n",
    "list1.clear()\n",
    "print (\"New list is: \", list1)"
   ]
  },
  {
   "cell_type": "code",
   "execution_count": 221,
   "id": "68366fbe",
   "metadata": {
    "ExecuteTime": {
     "end_time": "2023-04-03T11:21:41.879162Z",
     "start_time": "2023-04-03T11:21:41.857168Z"
    }
   },
   "outputs": [
    {
     "name": "stdout",
     "output_type": "stream",
     "text": [
      "The sample list is:  [25, 63, 78, 19, 12, 776]\n",
      "New list is:  []\n"
     ]
    }
   ],
   "source": [
    "sample_list = [25, 63, 78, 19, 12, 776]\n",
    "print (\"The sample list is: \" ,sample_list) \n",
    "for i in range(0,len(sample_list)):\n",
    "    sample_list.remove(sample_list[0])\n",
    "print (\"New list is: \", sample_list)"
   ]
  },
  {
   "cell_type": "code",
   "execution_count": 219,
   "id": "fe65f18d",
   "metadata": {
    "ExecuteTime": {
     "end_time": "2023-04-03T11:21:03.606641Z",
     "start_time": "2023-04-03T11:21:03.592630Z"
    }
   },
   "outputs": [
    {
     "name": "stdout",
     "output_type": "stream",
     "text": [
      "The sample list is:  [25, 63, 78, 19, 12, 776]\n",
      "New list is:  []\n"
     ]
    }
   ],
   "source": [
    "sample_list = [25, 63, 78, 19, 12, 776]\n",
    "print (\"The sample list is: \" ,sample_list) \n",
    "for i in range(0,len(sample_list)):\n",
    "    sample_list.pop(0)\n",
    "print (\"New list is: \", sample_list)"
   ]
  },
  {
   "cell_type": "code",
   "execution_count": 220,
   "id": "147eeb9c",
   "metadata": {
    "ExecuteTime": {
     "end_time": "2023-04-03T11:21:05.956120Z",
     "start_time": "2023-04-03T11:21:05.945127Z"
    }
   },
   "outputs": [
    {
     "name": "stdout",
     "output_type": "stream",
     "text": [
      "The sample list is:  [25, 63, 78, 19, 12, 776]\n",
      "New list is:  []\n"
     ]
    }
   ],
   "source": [
    "sample_list = [25, 63, 78, 19, 12, 776]\n",
    "print (\"The sample list is: \" ,sample_list) \n",
    "for i in range(0,len(sample_list)):\n",
    "    del sample_list[0]\n",
    "print (\"New list is: \", sample_list)"
   ]
  },
  {
   "cell_type": "markdown",
   "id": "52160e88",
   "metadata": {},
   "source": [
    "**28-remove duplicated elements from a list"
   ]
  },
  {
   "cell_type": "code",
   "execution_count": 223,
   "id": "5e362228",
   "metadata": {
    "ExecuteTime": {
     "end_time": "2023-04-03T11:22:29.790841Z",
     "start_time": "2023-04-03T11:22:29.768832Z"
    }
   },
   "outputs": [
    {
     "name": "stdout",
     "output_type": "stream",
     "text": [
      "The sample list is:  [11, 13, 15, 16, 13, 15, 16, 11]\n",
      "The list after removing duplicates :  [11, 13, 15, 16]\n"
     ]
    }
   ],
   "source": [
    "sample_list = [11, 13, 15, 16, 13, 15, 16, 11] \n",
    "print (\"The sample list is: \" ,sample_list) \n",
    "new_list = [] \n",
    "for i in sample_list: \n",
    "    if i not in new_list: \n",
    "        new_list.append(i) \n",
    "print (\"The list after removing duplicates : \", new_list) "
   ]
  },
  {
   "cell_type": "code",
   "execution_count": 224,
   "id": "b8584a14",
   "metadata": {
    "ExecuteTime": {
     "end_time": "2023-04-03T11:23:55.249017Z",
     "start_time": "2023-04-03T11:23:55.241021Z"
    }
   },
   "outputs": [
    {
     "name": "stdout",
     "output_type": "stream",
     "text": [
      "The sample list is:  [11, 13, 15, 16, 13, 15, 16, 11]\n",
      "The list after removing duplicates :  [16, 11, 13, 15]\n"
     ]
    }
   ],
   "source": [
    "sample_list = [11, 13, 15, 16, 13, 15, 16, 11] \n",
    "print (\"The sample list is: \" ,sample_list)\n",
    "new_list = list(set(sample_list)) \n",
    "print (\"The list after removing duplicates : \", new_list) "
   ]
  },
  {
   "cell_type": "markdown",
   "id": "282337f7",
   "metadata": {},
   "source": [
    "**29-Given list values and keys list, convert these values to key value pairs in form of list of dictionaries. (Input : test_list = [“Gfg”, 3, “is”, 8], key_list = [“name”, “id”]\n",
    "Output : [{‘name’: ‘Gfg’, ‘id’: 3}, {‘name’: ‘is’, ‘id’: 8}])"
   ]
  },
  {
   "cell_type": "code",
   "execution_count": 250,
   "id": "cb41a7fa",
   "metadata": {
    "ExecuteTime": {
     "end_time": "2023-04-03T11:43:09.402640Z",
     "start_time": "2023-04-03T11:43:09.383634Z"
    }
   },
   "outputs": [
    {
     "name": "stdout",
     "output_type": "stream",
     "text": [
      "The original list :  ['Gfg', 3, 'is', 8]\n",
      "The list of dictionary :  [{'name': 'Gfg', 'id': 3}, {'name': 'is', 'id': 8}]\n"
     ]
    }
   ],
   "source": [
    "test_list = [\"Gfg\", 3, \"is\", 8]\n",
    " \n",
    "print(\"The original list : \" , test_list)\n",
    " \n",
    "key_list = [\"name\", \"id\"]\n",
    "\n",
    "n = len(test_list)\n",
    "res = []\n",
    "for i in range(0, n, 2):\n",
    "    res.append({key_list[0]: test_list[i], key_list[1] : test_list[i + 1]})\n",
    "\n",
    "print(\"The list of dictionary : \" , res)"
   ]
  },
  {
   "cell_type": "markdown",
   "id": "c26b6e9f",
   "metadata": {},
   "source": [
    "**30-write a python program to count unique values inside a list using different ways"
   ]
  },
  {
   "cell_type": "code",
   "execution_count": 259,
   "id": "07569cc6",
   "metadata": {
    "ExecuteTime": {
     "end_time": "2023-04-03T11:53:06.118069Z",
     "start_time": "2023-04-03T11:53:06.097081Z"
    }
   },
   "outputs": [
    {
     "name": "stdout",
     "output_type": "stream",
     "text": [
      "No of unique items in the list are: 5\n"
     ]
    }
   ],
   "source": [
    "sample_list= [1, 2, 2, 5, 8, 4, 4, 8]\n",
    "\n",
    "new_set = set(input_list)\n",
    "print(\"No of unique items in the list are:\", len(new_set))"
   ]
  },
  {
   "cell_type": "code",
   "execution_count": 258,
   "id": "72132667",
   "metadata": {
    "ExecuteTime": {
     "end_time": "2023-04-03T11:53:03.822484Z",
     "start_time": "2023-04-03T11:53:03.813511Z"
    }
   },
   "outputs": [
    {
     "name": "stdout",
     "output_type": "stream",
     "text": [
      "No of unique items in the list are: 5\n"
     ]
    }
   ],
   "source": [
    "sample_list= [1, 2, 2, 5, 8, 4, 4, 8]\n",
    " \n",
    "new_list= []\n",
    "counter=0\n",
    "for i in sample_list:\n",
    "    if i not in new_list:\n",
    "        counter += 1\n",
    "        new_list.append(i)\n",
    "print(\"No of unique items in the list are:\",counter)"
   ]
  },
  {
   "cell_type": "markdown",
   "id": "fed6677c",
   "metadata": {},
   "source": [
    "**31-write a python program Extract all elements with Frequency greater than K (Input : test_list = [4, 6, 4, 3, 3, 4, 3, 4, 3, 8], K = 3 \n",
    "Output : [4, 3] )"
   ]
  },
  {
   "cell_type": "code",
   "execution_count": 6,
   "id": "fdc41bbf",
   "metadata": {
    "ExecuteTime": {
     "end_time": "2023-04-03T11:58:09.016090Z",
     "start_time": "2023-04-03T11:58:08.193330Z"
    }
   },
   "outputs": [
    {
     "name": "stdout",
     "output_type": "stream",
     "text": [
      "enter the number of frequency: 2\n",
      "the original list is:  [4, 6, 4, 3, 3, 4, 3, 4, 3, 8]\n",
      "New list with freq than K : [4, 3]\n"
     ]
    }
   ],
   "source": [
    "test_list=  [4, 6, 4, 3, 3, 4, 3, 4, 3, 8]\n",
    "k= int(input(\"enter the number of frequency: \"))\n",
    "output = []\n",
    "for i in test_list:\n",
    "    freq = test_list.count(i)\n",
    "    if freq > k and i not in output:\n",
    "        output.append(i)\n",
    "print(\"the original list is: \",test_list)\n",
    "print(\"New list with freq than K :\", output)"
   ]
  },
  {
   "cell_type": "code",
   "execution_count": 267,
   "id": "d81f3f9d",
   "metadata": {
    "ExecuteTime": {
     "end_time": "2023-04-03T11:55:36.826287Z",
     "start_time": "2023-04-03T11:55:34.540298Z"
    }
   },
   "outputs": [
    {
     "name": "stdout",
     "output_type": "stream",
     "text": [
      "enter the number of frequency: 4\n",
      "the original list is:  [4, 6, 4, 3, 3, 4, 3, 4, 3, 8]\n",
      "New list with freq than K : []\n"
     ]
    }
   ],
   "source": [
    "test_list=  [4, 6, 4, 3, 3, 4, 3, 4, 3, 8]\n",
    "k = int(input(\"enter the number of frequency: \"))\n",
    "output =  [i for i in set(test_list) if test_list.count(i) > k]\n",
    "print(\"the original list is: \",test_list)\n",
    "print(\"New list with freq than K :\", output)"
   ]
  },
  {
   "cell_type": "markdown",
   "id": "caca5224",
   "metadata": {},
   "source": [
    "**32-write a python program to find the Strongest Neighbour (Input: 1 2 2 3 4 5\n",
    "Output: 2 2 3 4 5)"
   ]
  },
  {
   "cell_type": "code",
   "execution_count": 8,
   "id": "1124715e",
   "metadata": {
    "ExecuteTime": {
     "end_time": "2023-04-03T12:02:24.419151Z",
     "start_time": "2023-04-03T12:02:24.403180Z"
    }
   },
   "outputs": [
    {
     "name": "stdout",
     "output_type": "stream",
     "text": [
      "the original list :  [1, 2, 2, 3, 4, 5]\n",
      "the Strongest Neighbour list :  [2, 2, 3, 4, 5]\n"
     ]
    }
   ],
   "source": [
    "sample_list=[1 , 2, 2, 3, 4, 5]\n",
    "print (\"the original list : \",sample_list)\n",
    "result=[]\n",
    "for i in range(0,len(sample_list)-1):\n",
    "    if sample_list[i]<=sample_list[i+1]:\n",
    "        result.append(sample_list[i+1])\n",
    "print (\"the Strongest Neighbour list : \",result)"
   ]
  },
  {
   "cell_type": "code",
   "execution_count": 10,
   "id": "5fede694",
   "metadata": {
    "ExecuteTime": {
     "end_time": "2023-04-03T12:03:27.919569Z",
     "start_time": "2023-04-03T12:03:27.896585Z"
    }
   },
   "outputs": [
    {
     "name": "stdout",
     "output_type": "stream",
     "text": [
      "the original list :  [1, 2, 2, 3, 4, 5]\n",
      "the Strongest Neighbour list :  [2, 2, 3, 4, 5]\n"
     ]
    }
   ],
   "source": [
    "sample_list=[1 , 2, 2, 3, 4, 5]\n",
    "print (\"the original list : \",sample_list)\n",
    "result=[]\n",
    "for i in range(0,len(sample_list)-1):\n",
    "    result.append(max(sample_list[i],sample_list[i+1]))\n",
    "print (\"the Strongest Neighbour list : \",result)"
   ]
  },
  {
   "cell_type": "markdown",
   "id": "a9fa8baf",
   "metadata": {},
   "source": [
    "**33-write a Python Program to print all Possible Combinations from the three Digits (Input: [1, 2, 3]\n",
    "Output:\n",
    "1 2 3 ##\n",
    "1 3 2 ##\n",
    "2 1 3 ##\n",
    "2 3 1 ##\n",
    "3 1 2 ##\n",
    "3 2 1)"
   ]
  },
  {
   "cell_type": "code",
   "execution_count": 11,
   "id": "139fbd02",
   "metadata": {
    "ExecuteTime": {
     "end_time": "2023-04-03T12:03:37.325026Z",
     "start_time": "2023-04-03T12:03:37.303021Z"
    }
   },
   "outputs": [
    {
     "name": "stdout",
     "output_type": "stream",
     "text": [
      "1 2 3\n",
      "1 3 2\n",
      "2 1 3\n",
      "2 3 1\n",
      "3 1 2\n",
      "3 2 1\n"
     ]
    }
   ],
   "source": [
    "def comb(L):\n",
    "      \n",
    "    for i in range(len(L)):\n",
    "        for j in range(len(L)):\n",
    "            for k in range(len(L)):\n",
    "                if (i!=j and j!=k and i!=k):\n",
    "                    print(L[i], L[j], L[k])\n",
    "comb([1, 2, 3])"
   ]
  },
  {
   "cell_type": "markdown",
   "id": "5288bb89",
   "metadata": {},
   "source": [
    "**34-write a Python program to find all the Combinations in the list with the given condition (Input: test_list = [1,2,3] \n",
    "Output: \n",
    " [1], [1, 2], [1, 2, 3], [1, 3]\n",
    " [2], [2, 3], [3])"
   ]
  },
  {
   "cell_type": "code",
   "execution_count": 24,
   "id": "50e011f0",
   "metadata": {
    "ExecuteTime": {
     "end_time": "2023-04-05T06:20:40.099016Z",
     "start_time": "2023-04-05T06:20:40.081002Z"
    }
   },
   "outputs": [
    {
     "name": "stdout",
     "output_type": "stream",
     "text": [
      "[1]\n",
      "[1, 3]\n",
      "[2]\n",
      "[2, 3]\n",
      "[3]\n"
     ]
    }
   ],
   "source": [
    "def comb(L):\n",
    "    result1=[]\n",
    "    result2=[]\n",
    "    result3=[]\n",
    "    for i in range(len(L)):\n",
    "        if i not in result1:\n",
    "            result1.append(L[i])\n",
    "            print(result1)\n",
    "    for j in range(1,len(L)):\n",
    "        result2.append(L[j])\n",
    "        print(result2)\n",
    "    for k in range(2,len(L)):\n",
    "        result3.append(L[k])\n",
    "        print(result3)\n",
    "comb([1, 2, 3])"
   ]
  },
  {
   "cell_type": "code",
   "execution_count": 37,
   "id": "2611620f",
   "metadata": {
    "ExecuteTime": {
     "end_time": "2023-04-05T09:03:12.846605Z",
     "start_time": "2023-04-05T09:03:12.823613Z"
    }
   },
   "outputs": [
    {
     "name": "stdout",
     "output_type": "stream",
     "text": [
      "\n",
      "Original list elements:\n",
      "[1, 2, 3]\n",
      "Powerset of the said list:\n",
      "[(), (1,), (2,), (3,), (1, 2), (1, 3), (2, 3), (1, 2, 3)]\n"
     ]
    }
   ],
   "source": [
    "from itertools import chain, combinations\n",
    "def powerset(iterable):\n",
    "  s = list(iterable)\n",
    "  return list(chain.from_iterable(combinations(s, r) for r in range(len(s)+1)))\n",
    "nums = [1, 2, 3]\n",
    "print(\"\\nOriginal list elements:\")\n",
    "print(nums)\n",
    "print(\"Powerset of the said list:\")\n",
    "print(powerset(nums))"
   ]
  },
  {
   "cell_type": "markdown",
   "id": "39973705",
   "metadata": {},
   "source": [
    "**35-write a Python program to get all unique combinations of two Lists (List_1 = [\"a\",\"b\"]\n",
    "List_2 = [1,2]\n",
    "Unique_combination = [[('a',1),('b',2)],[('a',2),('b',1)]] )"
   ]
  },
  {
   "cell_type": "code",
   "execution_count": 15,
   "id": "8c4ba22b",
   "metadata": {
    "ExecuteTime": {
     "end_time": "2023-04-03T12:06:03.952830Z",
     "start_time": "2023-04-03T12:06:03.944835Z"
    }
   },
   "outputs": [
    {
     "name": "stdout",
     "output_type": "stream",
     "text": [
      "[[('a', 1)], [('a', 2)], [('b', 1)], [('b', 2)]]\n"
     ]
    }
   ],
   "source": [
    "list_1 = [\"a\", \"b\"]\n",
    "list_2 = [1, 2]\n",
    " \n",
    "unique_combination = []\n",
    " \n",
    "for i in range(len(list_1)):\n",
    "    for j in range(len(list_2)):\n",
    "        unique_combination.append([(list_1[i], list_2[j])])\n",
    " \n",
    "print(unique_combination)"
   ]
  },
  {
   "cell_type": "markdown",
   "id": "25199af5",
   "metadata": {},
   "source": [
    "**36-Remove all the occurrences of an element from a list in Python (Input : 1 1 2 3 4 5 1 2 1 \n",
    "\n",
    "**Output : 2 3 4 5 2)"
   ]
  },
  {
   "cell_type": "code",
   "execution_count": 42,
   "id": "6dc4c2ba",
   "metadata": {
    "ExecuteTime": {
     "end_time": "2023-04-05T06:35:31.631992Z",
     "start_time": "2023-04-05T06:35:30.387881Z"
    }
   },
   "outputs": [
    {
     "name": "stdout",
     "output_type": "stream",
     "text": [
      "enter the element you need to remove: 1\n",
      "the sample list:  [1, 1, 2, 3, 4, 5, 1, 2, 1]\n",
      "the new list is:  [2, 3, 4, 5, 2]\n"
     ]
    }
   ],
   "source": [
    "s_list=[1,1,2,3,4,5,1,2,1]\n",
    "\n",
    "ele=int(input(\"enter the element you need to remove: \"))\n",
    "new_list=[]\n",
    "for i in s_list:\n",
    "    if i != ele:\n",
    "        new_list.append(i)\n",
    "\n",
    "print(\"the sample list: \", s_list)\n",
    "print (\"the new list is: \", new_list)\n",
    "\n"
   ]
  },
  {
   "cell_type": "code",
   "execution_count": 43,
   "id": "9a591ac4",
   "metadata": {
    "ExecuteTime": {
     "end_time": "2023-04-05T06:37:01.948622Z",
     "start_time": "2023-04-05T06:37:00.830378Z"
    }
   },
   "outputs": [
    {
     "name": "stdout",
     "output_type": "stream",
     "text": [
      "enter the element you need to remove: 1\n",
      "the sample list:  [1, 1, 2, 3, 4, 5, 1, 2, 1]\n",
      "the new list is:  [2, 3, 4, 5, 2]\n"
     ]
    }
   ],
   "source": [
    "s_list = [1, 1, 2, 3, 4, 5, 1, 2, 1]\n",
    "ele=int(input(\"enter the element you need to remove: \"))\n",
    "new_list=[i for i in s_list if i!=ele]\n",
    "\n",
    "print(\"the sample list: \", s_list)\n",
    "print (\"the new list is: \", new_list)"
   ]
  },
  {
   "cell_type": "markdown",
   "id": "bf1a3c93",
   "metadata": {},
   "source": [
    "**37-write a python program to Replace index elements with elements in Other List (The original list 1 is : [‘Gfg’, ‘is’, ‘best’] The original list 2 is : [0, 1, 2, 1, 0, 0, 0, 2, 1, 1, 2, 0] The lists after index elements replacements is : [‘Gfg’, ‘is’, ‘best’, ‘is’, ‘Gfg’, ‘Gfg’, ‘Gfg’, ‘best’, ‘is’, ‘is’, ‘best’, ‘Gfg’])"
   ]
  },
  {
   "cell_type": "code",
   "execution_count": 1,
   "id": "ded1222e",
   "metadata": {
    "ExecuteTime": {
     "end_time": "2023-04-05T07:01:06.093264Z",
     "start_time": "2023-04-05T07:01:06.066277Z"
    }
   },
   "outputs": [
    {
     "name": "stdout",
     "output_type": "stream",
     "text": [
      "the original list1 is :  ['Gfg', 'is', 'best']\n",
      "the original list1 is :  [0, 1, 2, 1, 0, 0, 0, 2, 1, 1, 2, 0]\n",
      "the new list after replacing index of elements:  ['Gfg', 'is', 'best', 'is', 'Gfg', 'Gfg', 'Gfg', 'best', 'is', 'is', 'best', 'Gfg']\n"
     ]
    }
   ],
   "source": [
    "list1=['Gfg','is','best']\n",
    "list2=[0,1,2,1,0,0,0,2,1,1,2,0] \n",
    "\n",
    "print(\"the original list1 is : \", list1)\n",
    "print(\"the original list1 is : \", list2)\n",
    "\n",
    "for i in range (len(list2)):\n",
    "    if list2[i]==0:\n",
    "        list2[i]=list1[0] \n",
    "    elif list2[i]==1:\n",
    "        list2[i]=list1[1] \n",
    "    else:\n",
    "        list2[i]=list1[2]\n",
    "    \n",
    "print (\"the new list after replacing index of elements: \", list2)"
   ]
  },
  {
   "cell_type": "markdown",
   "id": "fb233742",
   "metadata": {},
   "source": [
    "**38- write python program to Retain records with N occurrences of K(Input : test_list = [(4, 5, 5, 4), (5, 4, 3)], K = 5, N = 2 Output : [(4, 5, 5, 4)] Input : test_list = [(4, 5, 5, 4), (5, 4, 3)], K = 5, N = 3 Output : [] )"
   ]
  },
  {
   "cell_type": "code",
   "execution_count": 17,
   "id": "936e910e",
   "metadata": {
    "ExecuteTime": {
     "end_time": "2023-04-05T07:18:55.025043Z",
     "start_time": "2023-04-05T07:18:52.025321Z"
    }
   },
   "outputs": [
    {
     "name": "stdout",
     "output_type": "stream",
     "text": [
      "enter the element: 5\n",
      "enter the number occurrences of element: 2\n",
      " the new list is :  [(4, 5, 5, 4)]\n"
     ]
    }
   ],
   "source": [
    "test_list=[(4, 5, 5, 4), (5, 4, 3)]\n",
    "K=int(input(\"enter the element: \"))\n",
    "N=int(input(\"enter the number occurrences of element: \"))\n",
    "new_list=[]\n",
    "for i in test_list:\n",
    "    if i.count(K)==N:\n",
    "        new_list.append(i)  \n",
    "print (\" the new list is : \",new_list)"
   ]
  },
  {
   "cell_type": "code",
   "execution_count": 11,
   "id": "1cd8ecd1",
   "metadata": {
    "ExecuteTime": {
     "end_time": "2023-04-05T07:15:42.783543Z",
     "start_time": "2023-04-05T07:15:39.013070Z"
    }
   },
   "outputs": [
    {
     "name": "stdout",
     "output_type": "stream",
     "text": [
      "enter the element: 5\n",
      "enter the number occurrences of element: 3\n",
      " the test list :  [(4, 5, 5, 4), (5, 4, 3)]\n",
      " the new list is :  []\n"
     ]
    }
   ],
   "source": [
    "test_list=[(4, 5, 5, 4), (5, 4, 3)]\n",
    "K=int(input(\"enter the element: \"))\n",
    "N=int(input(\"enter the number occurrences of element: \"))\n",
    "\n",
    "print (\" the test list : \",test_list)\n",
    "new_list=[e for e in test_list if e.count(K)==N]\n",
    "\n",
    "print (\" the new list is : \",new_list)"
   ]
  },
  {
   "cell_type": "markdown",
   "id": "883f9459",
   "metadata": {},
   "source": [
    "**39-write a Python Program to Sort the list according to the column using lambda array = [[1, 3, 3], [2, 1, 2], [3, 2, 1]] Output : Sorted array specific to column 0, [[1, 3, 3], [2, 1, 2], [3, 2, 1]] Sorted array specific to column 1, [[2, 1, 2], [3, 2, 1], [1, 3, 3]] Sorted array specific to column 2, [[3, 2, 1], [2, 1, 2], [1, 3, 3]]"
   ]
  },
  {
   "cell_type": "code",
   "execution_count": 26,
   "id": "eff26742",
   "metadata": {
    "ExecuteTime": {
     "end_time": "2023-04-05T07:36:15.907788Z",
     "start_time": "2023-04-05T07:36:14.108895Z"
    }
   },
   "outputs": [
    {
     "name": "stdout",
     "output_type": "stream",
     "text": [
      "enter the column you need to sort array accor. to it: 2\n",
      "the original array:  [[1, 3, 3], [2, 1, 2], [3, 2, 1]]\n",
      "the sorted array is :  [[3, 2, 1], [2, 1, 2], [1, 3, 3]]\n"
     ]
    }
   ],
   "source": [
    "s_array = [[1, 3, 3], [2, 1, 2], [3, 2, 1]]\n",
    "col=int(input(\"enter the column you need to sort array accor. to it: \"))\n",
    "print(\"the original array: \", s_array)\n",
    "s_array.sort(key=lambda x:x[col])\n",
    "print(\"the sorted array is : \", s_array)"
   ]
  },
  {
   "cell_type": "code",
   "execution_count": 29,
   "id": "11ec4dbb",
   "metadata": {
    "ExecuteTime": {
     "end_time": "2023-04-05T07:37:20.235753Z",
     "start_time": "2023-04-05T07:37:18.891998Z"
    }
   },
   "outputs": [
    {
     "name": "stdout",
     "output_type": "stream",
     "text": [
      "enter the column you need to sort array accor. to it: 1\n",
      "the original array:  [[1, 3, 3], [2, 1, 2], [3, 2, 1]]\n",
      "the sorted array is :  [[2, 1, 2], [3, 2, 1], [1, 3, 3]]\n"
     ]
    }
   ],
   "source": [
    "s_array = [[1, 3, 3], [2, 1, 2], [3, 2, 1]]\n",
    "col=int(input(\"enter the column you need to sort array accor. to it: \"))\n",
    "print(\"the original array: \", s_array)\n",
    "new_array=sorted(s_array, key=lambda x:x[col])\n",
    "print(\"the sorted array is : \", new_array)"
   ]
  },
  {
   "cell_type": "markdown",
   "id": "3c576087",
   "metadata": {},
   "source": [
    "**40- write a program to Sort Python Dictionaries by Key or Value\n",
    "Input:\n",
    "{'ravi': 10, 'rajnish': 9, 'sanjeev': 15, 'yash': 2, 'suraj': 32}\n",
    "\n",
    "Output: \n",
    "{'rajnish': 9, 'ravi': 10, 'sanjeev': 15, 'suraj': 32, 'yash': 2}"
   ]
  },
  {
   "cell_type": "code",
   "execution_count": 37,
   "id": "dcf84f8e",
   "metadata": {
    "ExecuteTime": {
     "end_time": "2023-04-05T07:50:02.249043Z",
     "start_time": "2023-04-05T07:50:02.227036Z"
    }
   },
   "outputs": [
    {
     "name": "stdout",
     "output_type": "stream",
     "text": [
      "the original dictionary is:  {'ravi': 10, 'rajnish': 9, 'sanjeev': 15, 'yash': 2, 'suraj': 32}\n",
      "the sorted dictionary by keys is:  {'rajnish': 9, 'ravi': 10, 'sanjeev': 15, 'suraj': 32, 'yash': 2}\n"
     ]
    }
   ],
   "source": [
    "mydict={'ravi': 10, 'rajnish': 9, 'sanjeev': 15, 'yash': 2, 'suraj': 32}\n",
    "print (\"the original dictionary is: \",mydict)\n",
    "# sort dict by key\n",
    "mykeys=list(mydict.keys())\n",
    "mykeys.sort()\n",
    "new_dict={i:mydict[i] for i in mykeys}\n",
    "print (\"the sorted dictionary by keys is: \",new_dict)\n"
   ]
  },
  {
   "cell_type": "code",
   "execution_count": 43,
   "id": "3f187aa6",
   "metadata": {
    "ExecuteTime": {
     "end_time": "2023-04-05T07:58:21.184282Z",
     "start_time": "2023-04-05T07:58:21.169310Z"
    }
   },
   "outputs": [
    {
     "name": "stdout",
     "output_type": "stream",
     "text": [
      "the original dictionary is:  {'ravi': 10, 'rajnish': 9, 'sanjeev': 15, 'yash': 2, 'suraj': 32}\n",
      "the sorted dictionary by values is:  {'ravi': 2, 'rajnish': 9, 'sanjeev': 10, 'yash': 15, 'suraj': 32}\n"
     ]
    }
   ],
   "source": [
    "mydict={'ravi': 10, 'rajnish': 9, 'sanjeev': 15, 'yash': 2, 'suraj': 32}\n",
    "print (\"the original dictionary is: \",mydict)\n",
    "# sort dict by value\n",
    "mykeys=list(mydict.keys())\n",
    "myvalues=list(mydict.values())\n",
    "myvalues.sort()\n",
    "\n",
    "new_dict={mykeys[i]:myvalues[i] for i in range(len(myvalues)) }\n",
    "print (\"the sorted dictionary by values is: \",new_dict)"
   ]
  },
  {
   "cell_type": "markdown",
   "id": "ec63c23a",
   "metadata": {},
   "source": [
    "**41-write python program to Remove keys with Values Greater than K ( Including mixed values )\n",
    "nput : test_dict = {‘Gfg’ : 3, ‘is’ : 7, ‘best’ : 10, ‘for’ : 6, ‘geeks’ : ‘CS’},\n",
    "K = 7 \n",
    "Output : {‘Gfg’ : 3, ‘for’ : 6, ‘geeks’ : ‘CS’}"
   ]
  },
  {
   "cell_type": "code",
   "execution_count": 34,
   "id": "988cb982",
   "metadata": {
    "ExecuteTime": {
     "end_time": "2023-04-05T08:55:33.345946Z",
     "start_time": "2023-04-05T08:55:29.509441Z"
    }
   },
   "outputs": [
    {
     "name": "stdout",
     "output_type": "stream",
     "text": [
      "enter the value of k: 5\n",
      "The original dictionary is :  {'Gfg': 3, 'is': 7, 'best': 10, 'for': 6, 'geeks': 'CS'}\n",
      "the new dictionary after Removing keys with Values Greater than K :  {'Gfg': 3, 'geeks': 'CS'}\n"
     ]
    }
   ],
   "source": [
    "test_dict = {'Gfg' : 3, 'is' : 7, 'best' : 10, 'for' : 6, 'geeks' : 'CS'}\n",
    "K=int(input(\"enter the value of k: \"))\n",
    "print(\"The original dictionary is : \" , test_dict)\n",
    "for key, val in list(test_dict.items()):\n",
    "    if type(val)==int:\n",
    "        if val > K :\n",
    "            del test_dict[key]\n",
    "print (\"the new dictionary after Removing keys with Values Greater than K : \",test_dict)"
   ]
  },
  {
   "cell_type": "code",
   "execution_count": 31,
   "id": "e39c3a40",
   "metadata": {
    "ExecuteTime": {
     "end_time": "2023-04-05T08:53:12.998895Z",
     "start_time": "2023-04-05T08:53:02.820040Z"
    }
   },
   "outputs": [
    {
     "name": "stdout",
     "output_type": "stream",
     "text": [
      "enter the value of k: 1\n",
      "The original dictionary is :  {'Gfg': 3, 'is': 7, 'best': 10, 'for': 6, 'geeks': 'CS'}\n",
      "the new dictionary after Removing keys with Values Greater than K :  {'geeks': 'CS'}\n"
     ]
    }
   ],
   "source": [
    "test_dict = {'Gfg' : 3, 'is' : 7, 'best' : 10, 'for' : 6, 'geeks' : 'CS'}\n",
    "K=int(input(\"enter the value of k: \"))\n",
    "print(\"The original dictionary is : \" , test_dict)\n",
    "new_dict = {}\n",
    "for key in test_dict:\n",
    "    if not (isinstance(test_dict[key], int) and test_dict[key] > K):  \n",
    "        new_dict[key] = test_dict[key]\n",
    "         \n",
    "print (\"the new dictionary after Removing keys with Values Greater than K : \",new_dict)"
   ]
  },
  {
   "cell_type": "markdown",
   "id": "f143f0fe",
   "metadata": {},
   "source": [
    "**42-Write a Python program to concatenate the following dictionaries to create a new one\n",
    "\n",
    "Sample Dictionary :\n",
    "dic1={1:10, 2:20}\n",
    "dic2={3:30, 4:40}\n",
    "dic3={5:50,6:60}\n",
    "Expected Result : {1: 10, 2: 20, 3: 30, 4: 40, 5: 50, 6: 60}"
   ]
  },
  {
   "cell_type": "code",
   "execution_count": 41,
   "id": "74ffdfea",
   "metadata": {
    "ExecuteTime": {
     "end_time": "2023-04-05T09:09:01.475367Z",
     "start_time": "2023-04-05T09:09:01.464376Z"
    }
   },
   "outputs": [
    {
     "name": "stdout",
     "output_type": "stream",
     "text": [
      " the original dictionaries dict1:  {1: 10, 2: 20} , dict2:  {3: 30, 4: 40} ,and dict3:  {5: 50, 6: 60}\n",
      " the concatenated dictionary:  {1: 10, 2: 20, 3: 30, 4: 40, 5: 50, 6: 60}\n"
     ]
    }
   ],
   "source": [
    "dic1={1:10, 2:20}\n",
    "dic2={3:30, 4:40}\n",
    "dic3={5:50,6:60}\n",
    "\n",
    "print(\" the original dictionaries dict1: \",dic1 ,\", dict2: \", dic2 , \",and dict3: \", dic3)\n",
    "\n",
    "new_dict={}\n",
    "for d in dic1,dic2,dic3 : new_dict.update(d)\n",
    "print(\" the concatenated dictionary: \",new_dict)\n"
   ]
  },
  {
   "cell_type": "markdown",
   "id": "fb04c93c",
   "metadata": {},
   "source": [
    "**43-Write a Python program to iterate over dictionaries using for loops"
   ]
  },
  {
   "cell_type": "code",
   "execution_count": 54,
   "id": "6aebc470",
   "metadata": {
    "ExecuteTime": {
     "end_time": "2023-04-05T09:29:42.725638Z",
     "start_time": "2023-04-05T09:29:42.714642Z"
    }
   },
   "outputs": [
    {
     "name": "stdout",
     "output_type": "stream",
     "text": [
      "the original dictionary :  {'ravi': 10, 'raji': 9, 'sanj': 15, 'yash': 2, 'sura': 32}\n",
      "the dict key is: ravi , with value: 10\n",
      "the dict key is: raji , with value: 9\n",
      "the dict key is: sanj , with value: 15\n",
      "the dict key is: yash , with value: 2\n",
      "the dict key is: sura , with value: 32\n"
     ]
    }
   ],
   "source": [
    "dict1={'ravi': 10, 'raji': 9, 'sanj': 15, 'yash': 2, 'sura': 32}\n",
    "print(\"the original dictionary : \",dict1)\n",
    "for key in dict1:\n",
    "    print(\"the dict key is:\",key,  \", with value:\",dict1[key])"
   ]
  },
  {
   "cell_type": "code",
   "execution_count": 55,
   "id": "f3bf9875",
   "metadata": {
    "ExecuteTime": {
     "end_time": "2023-04-05T09:30:39.424269Z",
     "start_time": "2023-04-05T09:30:39.403261Z"
    }
   },
   "outputs": [
    {
     "name": "stdout",
     "output_type": "stream",
     "text": [
      "the original dictionary :  {'ravi': 10, 'raji': 9, 'sanj': 15, 'yash': 2, 'sura': 32}\n",
      "the dict key is: ravi , with value: 10\n",
      "the dict key is: raji , with value: 9\n",
      "the dict key is: sanj , with value: 15\n",
      "the dict key is: yash , with value: 2\n",
      "the dict key is: sura , with value: 32\n"
     ]
    }
   ],
   "source": [
    "dict1={'ravi': 10, 'raji': 9, 'sanj': 15, 'yash': 2, 'sura': 32}\n",
    "print(\"the original dictionary : \",dict1)\n",
    "for key ,val in dict1.items():\n",
    "    print(\"the dict key is:\",key,  \", with value:\",dict1[key])"
   ]
  },
  {
   "cell_type": "markdown",
   "id": "5f491a9d",
   "metadata": {},
   "source": [
    "**44- Write a Python script to merge two Python dictionaries"
   ]
  },
  {
   "cell_type": "code",
   "execution_count": 66,
   "id": "b8a14028",
   "metadata": {
    "ExecuteTime": {
     "end_time": "2023-04-05T09:49:40.472317Z",
     "start_time": "2023-04-05T09:49:40.447345Z"
    }
   },
   "outputs": [
    {
     "name": "stdout",
     "output_type": "stream",
     "text": [
      " the original dictionaries dict1:  {'ahmed': 10, 'ali': 20} , dict2:  {'mahmoud': 30, 'mohamed': 40}\n",
      "the new dictionary after merging (update method):  {'ahmed': 10, 'ali': 20, 'mahmoud': 30, 'mohamed': 40}\n",
      "the new dictionary after merging (unpacking ** method):  {'ahmed': 10, 'ali': 20, 'mahmoud': 30, 'mohamed': 40}\n",
      "the new dictionary after merging (unpacking 2nd dict method):  {'ahmed': 10, 'ali': 20, 'mahmoud': 30, 'mohamed': 40}\n"
     ]
    }
   ],
   "source": [
    "dict1= {\"ahmed\": 10, \"ali\": 20} \n",
    "dict2= {\"mahmoud\": 30, \"mohamed\": 40}\n",
    "print(\" the original dictionaries dict1: \",dict1 ,\", dict2: \", dict2)\n",
    "\n",
    "#update method \n",
    "dict1.update(dict2)\n",
    "\n",
    "print (\"the new dictionary after merging (update method): \", dict1)\n",
    "\n",
    "# **  unpacking method \n",
    "new_dict={**dict1,**dict2}\n",
    "print (\"the new dictionary after merging (unpacking ** method): \", new_dict)\n",
    "\n",
    "# unpacking 2nd dict method \n",
    "new_dict=dict(dict1,**dict2)\n",
    "print (\"the new dictionary after merging (unpacking 2nd dict method): \", new_dict)\n"
   ]
  },
  {
   "cell_type": "markdown",
   "id": "216fc72d",
   "metadata": {},
   "source": [
    "**45-Write a Python program to get the maximum and minimum values of a dictionary values"
   ]
  },
  {
   "cell_type": "code",
   "execution_count": 70,
   "id": "d6883f5f",
   "metadata": {
    "ExecuteTime": {
     "end_time": "2023-04-05T09:56:02.889226Z",
     "start_time": "2023-04-05T09:56:02.869259Z"
    }
   },
   "outputs": [
    {
     "name": "stdout",
     "output_type": "stream",
     "text": [
      "the maximum values of a dictionary values:  40\n",
      "the minimum values of a dictionary values:  10\n"
     ]
    }
   ],
   "source": [
    "dict1={'ahmed': 10, 'ali': 20, 'mahmoud': 30, 'mohamed': 40}\n",
    "dict_max=max(dict1.values(),key=(lambda k:k))\n",
    "dict_min=min(dict1.values(),key=(lambda k:k))\n",
    "\n",
    "print(\"the maximum values of a dictionary values: \" ,dict_max)\n",
    "\n",
    "print(\"the minimum values of a dictionary values: \" ,dict_min)\n"
   ]
  },
  {
   "cell_type": "code",
   "execution_count": 73,
   "id": "0df16465",
   "metadata": {
    "ExecuteTime": {
     "end_time": "2023-04-05T09:58:18.282885Z",
     "start_time": "2023-04-05T09:58:18.275886Z"
    }
   },
   "outputs": [
    {
     "name": "stdout",
     "output_type": "stream",
     "text": [
      "the maximum values of a dictionary values:  40\n",
      "the minimum values of a dictionary values:  10\n"
     ]
    }
   ],
   "source": [
    "dict1={'ahmed': 10, 'ali': 20, 'mahmoud': 30, 'mohamed': 40}\n",
    "dict_max=max(dict1, key=dict1.get)\n",
    "dict_min=min(dict1, key=dict1.get)\n",
    "\n",
    "print(\"the maximum values of a dictionary values: \" ,dict1[dict_max])\n",
    "\n",
    "print(\"the minimum values of a dictionary values: \" ,dict1[dict_min])"
   ]
  },
  {
   "cell_type": "markdown",
   "id": "b6a53011",
   "metadata": {},
   "source": [
    "**46- Write a Python program to drop empty items from a given dictionary.\n",
    "Original Dictionary:\n",
    "{'c1': 'Red', 'c2': 'Green', 'c3': None}\n",
    "New Dictionary after dropping empty items:\n",
    "{'c1': 'Red', 'c2': 'Green'}"
   ]
  },
  {
   "cell_type": "code",
   "execution_count": 77,
   "id": "b7c23f4e",
   "metadata": {
    "ExecuteTime": {
     "end_time": "2023-04-05T10:03:59.425623Z",
     "start_time": "2023-04-05T10:03:59.415627Z"
    }
   },
   "outputs": [
    {
     "name": "stdout",
     "output_type": "stream",
     "text": [
      "the Original Dictionary:  {'c1': 'Red', 'c2': 'Green', 'c3': None}\n",
      "the New Dictionary after dropping empty items:  {'c1': 'Red', 'c2': 'Green'}\n"
     ]
    }
   ],
   "source": [
    "originalDict={'c1': 'Red', 'c2': 'Green', 'c3': None} \n",
    "new_dict={key:value for key,value in originalDict.items() if value is not None }\n",
    "print(\"the Original Dictionary: \",originalDict)\n",
    "print(\"the New Dictionary after dropping empty items: \",new_dict)"
   ]
  },
  {
   "cell_type": "markdown",
   "id": "46d718c7",
   "metadata": {},
   "source": [
    "**47-Write a Python program to create a tuple of numbers and print one item"
   ]
  },
  {
   "cell_type": "code",
   "execution_count": 83,
   "id": "8f4d3a56",
   "metadata": {
    "ExecuteTime": {
     "end_time": "2023-04-05T10:18:02.421097Z",
     "start_time": "2023-04-05T10:18:02.410123Z"
    }
   },
   "outputs": [
    {
     "name": "stdout",
     "output_type": "stream",
     "text": [
      " the tuple of number is: (5, 12, 6, 3, 4, 8, 9)\n",
      " the value of index 1:  12\n"
     ]
    }
   ],
   "source": [
    "t=5,12,6,3,4,8,9\n",
    "print(\" the tuple of number is:\",t)\n",
    "print (\" the value of index 1: \", t[1])"
   ]
  },
  {
   "cell_type": "code",
   "execution_count": 88,
   "id": "13216ff5",
   "metadata": {
    "ExecuteTime": {
     "end_time": "2023-04-05T10:21:54.402582Z",
     "start_time": "2023-04-05T10:21:37.073131Z"
    }
   },
   "outputs": [
    {
     "name": "stdout",
     "output_type": "stream",
     "text": [
      "enter the length of tuple: 7\n",
      "enter the elements of tuple: 5\n",
      "enter the elements of tuple: 12\n",
      "enter the elements of tuple: 6\n",
      "enter the elements of tuple: 3\n",
      "enter the elements of tuple: 4\n",
      "enter the elements of tuple: 8\n",
      "enter the elements of tuple: 9\n",
      " the tuple of number is: (5, 12, 6, 3, 4, 8, 9)\n",
      " the value of index 1:  6\n"
     ]
    }
   ],
   "source": [
    "n= int(input(\"enter the length of tuple: \"))\n",
    "t=[]\n",
    "for i in range(n):\n",
    "    ele=int(input(\"enter the elements of tuple: \"))\n",
    "    t.append(ele)\n",
    "t=tuple(t)\n",
    "print(\" the tuple of number is:\",t)\n",
    "print (\" the value of index 2: \", t[2])"
   ]
  },
  {
   "cell_type": "markdown",
   "id": "2be5b56b",
   "metadata": {},
   "source": [
    "**48-Write a Python program to unpack a tuple into several variables"
   ]
  },
  {
   "cell_type": "code",
   "execution_count": 96,
   "id": "595f44be",
   "metadata": {
    "ExecuteTime": {
     "end_time": "2023-04-05T10:55:32.561341Z",
     "start_time": "2023-04-05T10:55:32.551346Z"
    }
   },
   "outputs": [
    {
     "name": "stdout",
     "output_type": "stream",
     "text": [
      "the sample of tuple :  ('ahmed', 25, 'ali', 36, 'mahmoud', 50, ['okba', 32])\n",
      "the variable x=  ahmed  and  y=  [25, 'ali', 36, 'mahmoud', 50] ,and z=  ['okba', 32]\n"
     ]
    }
   ],
   "source": [
    "s_tuple=('ahmed', 25,'ali',36,'mahmoud',50,['okba',32])\n",
    "x,*y,z=s_tuple\n",
    "print(\"the sample of tuple : \",s_tuple)\n",
    "print (\"the variable x= \" ,x ,\" and  y= \", y, \",and z= \",z)\n"
   ]
  },
  {
   "cell_type": "code",
   "execution_count": 99,
   "id": "d5128ccb",
   "metadata": {
    "ExecuteTime": {
     "end_time": "2023-04-05T10:57:54.593080Z",
     "start_time": "2023-04-05T10:57:54.578064Z"
    }
   },
   "outputs": [
    {
     "name": "stdout",
     "output_type": "stream",
     "text": [
      "the sample of tuple :  ('ahmed', 25, 'ali', 36, 'mahmoud', 50, ['okba', 32])\n",
      "the variable a=  ahmed  and  b=  25 ,and c=  ali and d=  36 and e=  mahmoud and f=  50 and g=  ['okba', 32]\n"
     ]
    }
   ],
   "source": [
    "s_tuple=('ahmed', 25,'ali',36,'mahmoud',50,['okba',32])\n",
    "a,b,c,d,e,f,g=s_tuple\n",
    "print(\"the sample of tuple : \",s_tuple)\n",
    "print (\"the variable a= \" ,a ,\" and  b= \", b, \",and c= \",c ,\"and d= \",d ,\"and e= \",e ,\"and f= \",f ,\"and g= \",g)\n"
   ]
  },
  {
   "cell_type": "markdown",
   "id": "392388a7",
   "metadata": {},
   "source": [
    "**49-Write a Python program to add an item to a tuple"
   ]
  },
  {
   "cell_type": "code",
   "execution_count": 107,
   "id": "54cc092e",
   "metadata": {
    "ExecuteTime": {
     "end_time": "2023-04-05T11:08:30.260735Z",
     "start_time": "2023-04-05T11:08:30.243742Z"
    }
   },
   "outputs": [
    {
     "name": "stdout",
     "output_type": "stream",
     "text": [
      "the sample of tuple :  ('ahmed', 25, 'ali', 36, 'mahmoud', 50)\n",
      "the new tuple after adding items :  ('ahmed', 25, 'ali', 36, 'mahmoud', 50, 5, 62, 41)\n",
      "the new tuple after adding items :  ('ahmed', 25, 'ali', 36, 'mahmoud', 50, 100)\n",
      "the new tuple after adding items :  ('ahmed', 25, 'ali', 36, 'mahmoud', 50, 100, 'okba')\n"
     ]
    }
   ],
   "source": [
    "s_tuple=('ahmed', 25,'ali',36,'mahmoud',50)\n",
    "\n",
    "print(\"the sample of tuple : \",s_tuple)\n",
    "\n",
    "new_tuple=s_tuple+(5,62,41)        # add tuple of items\n",
    "\n",
    "print(\"the new tuple after adding items : \",new_tuple)\n",
    "\n",
    "new_tuple=s_tuple+(100,)        # add one items\n",
    "\n",
    "print(\"the new tuple after adding items : \",new_tuple)\n",
    "\n",
    "new_tuple=list(new_tuple)          # convert to list and using fn append()\n",
    "new_tuple.append(\"okba\")\n",
    "new_tuple=tuple(new_tuple)\n",
    "print(\"the new tuple after adding items : \",new_tuple)\n",
    "\n"
   ]
  },
  {
   "cell_type": "markdown",
   "id": "3e8fd124",
   "metadata": {},
   "source": [
    "**50-Write a Python program to convert a tuple to a string"
   ]
  },
  {
   "cell_type": "code",
   "execution_count": 114,
   "id": "3922797c",
   "metadata": {
    "ExecuteTime": {
     "end_time": "2023-04-05T11:15:59.385471Z",
     "start_time": "2023-04-05T11:15:59.371474Z"
    }
   },
   "outputs": [
    {
     "name": "stdout",
     "output_type": "stream",
     "text": [
      "the sample of tuple :  ('mahmoud', 7, 'hassan', 9, 'okba')\n",
      "the converted string :  mahmoud7hassan9okba\n"
     ]
    }
   ],
   "source": [
    "s_tuple=('mahmoud',7,'hassan',9,'okba')\n",
    "string=\"\"\n",
    "for i in s_tuple:\n",
    "    i=str(i)\n",
    "    string=string+i\n",
    "print(\"the sample of tuple : \",s_tuple)\n",
    "print(\"the converted string : \",string)"
   ]
  },
  {
   "cell_type": "code",
   "execution_count": 116,
   "id": "92a71ddc",
   "metadata": {
    "ExecuteTime": {
     "end_time": "2023-04-05T11:16:59.243861Z",
     "start_time": "2023-04-05T11:16:59.222869Z"
    }
   },
   "outputs": [
    {
     "name": "stdout",
     "output_type": "stream",
     "text": [
      "the sample of tuple :  ('mahmoud', 'hassan', 'okba')\n",
      "the converted string :  mahmoudhassanokba\n"
     ]
    }
   ],
   "source": [
    "s_tuple=('mahmoud','hassan','okba')\n",
    "string=\"\".join(s_tuple)\n",
    "print(\"the sample of tuple : \",s_tuple)\n",
    "print(\"the converted string : \",string)\n"
   ]
  },
  {
   "cell_type": "markdown",
   "id": "f4f64ef4",
   "metadata": {},
   "source": [
    "**51-Write a Python program to convert a list to a tuple"
   ]
  },
  {
   "cell_type": "code",
   "execution_count": 117,
   "id": "210d56d3",
   "metadata": {
    "ExecuteTime": {
     "end_time": "2023-04-05T11:19:03.019598Z",
     "start_time": "2023-04-05T11:19:03.005607Z"
    }
   },
   "outputs": [
    {
     "name": "stdout",
     "output_type": "stream",
     "text": [
      "the sample of list :  ['mahmoud', 7, 'hassan', 9, 'okba']\n",
      "the new tuple :  ('mahmoud', 7, 'hassan', 9, 'okba')\n"
     ]
    }
   ],
   "source": [
    "s_list=['mahmoud',7,'hassan',9,'okba']\n",
    "new_tuple=tuple(s_list)\n",
    "print(\"the sample of list : \",s_list)\n",
    "print(\"the new tuple : \",new_tuple)\n"
   ]
  },
  {
   "cell_type": "code",
   "execution_count": 121,
   "id": "dc54fec6",
   "metadata": {
    "ExecuteTime": {
     "end_time": "2023-04-05T11:22:14.480081Z",
     "start_time": "2023-04-05T11:22:14.468090Z"
    }
   },
   "outputs": [
    {
     "name": "stdout",
     "output_type": "stream",
     "text": [
      "the sample of list :  ['mahmoud', 7, 'hassan', 9, 'okba']\n",
      "the new tuple :  ('mahmoud', 7, 'hassan', 9, 'okba')\n"
     ]
    }
   ],
   "source": [
    "s_list=['mahmoud',7,'hassan',9,'okba']\n",
    "new_tuple=()\n",
    "\n",
    "for i in s_list:\n",
    "    new_tuple=new_tuple+(i,)\n",
    "print(\"the sample of list : \",s_list)\n",
    "print(\"the new tuple : \",new_tuple)"
   ]
  },
  {
   "cell_type": "code",
   "execution_count": 122,
   "id": "dc09d723",
   "metadata": {
    "ExecuteTime": {
     "end_time": "2023-04-05T11:23:04.771185Z",
     "start_time": "2023-04-05T11:23:04.764192Z"
    }
   },
   "outputs": [
    {
     "name": "stdout",
     "output_type": "stream",
     "text": [
      "the sample of list :  ['mahmoud', 7, 'hassan', 9, 'okba']\n",
      "the new tuple :  ('mahmoud', 7, 'hassan', 9, 'okba')\n"
     ]
    }
   ],
   "source": [
    "s_list=['mahmoud',7,'hassan',9,'okba']\n",
    "new_tuple=(*s_list,)\n",
    "print(\"the sample of list : \",s_list)\n",
    "print(\"the new tuple : \",new_tuple)"
   ]
  },
  {
   "cell_type": "markdown",
   "id": "b1e00ef7",
   "metadata": {},
   "source": [
    "**52-Write a Python program to reverse a tuple"
   ]
  },
  {
   "cell_type": "code",
   "execution_count": 123,
   "id": "f45bfdc7",
   "metadata": {
    "ExecuteTime": {
     "end_time": "2023-04-05T11:24:48.705732Z",
     "start_time": "2023-04-05T11:24:48.693714Z"
    }
   },
   "outputs": [
    {
     "name": "stdout",
     "output_type": "stream",
     "text": [
      "the sample of tuple :  ('mahmoud', 'hassan', 'okba')\n",
      "the reverse tuple :  ('okba', 'hassan', 'mahmoud')\n"
     ]
    }
   ],
   "source": [
    "s_tuple=('mahmoud','hassan','okba')\n",
    "rev_tuple=s_tuple[::-1]\n",
    "print(\"the sample of tuple : \",s_tuple)\n",
    "print(\"the reverse tuple : \",rev_tuple)"
   ]
  },
  {
   "cell_type": "code",
   "execution_count": 142,
   "id": "7aa7ffa9",
   "metadata": {
    "ExecuteTime": {
     "end_time": "2023-04-05T11:31:19.324534Z",
     "start_time": "2023-04-05T11:31:19.301568Z"
    }
   },
   "outputs": [
    {
     "name": "stdout",
     "output_type": "stream",
     "text": [
      "the sample of tuple :  ('mahmoud', 'hassan', 'okba')\n",
      "the reverse tuple :  ('okba', 'hassan', 'mahmoud')\n"
     ]
    }
   ],
   "source": [
    "s_tuple=('mahmoud','hassan','okba')\n",
    "list1=list(s_tuple)\n",
    "list1.reverse()\n",
    "rev_tuple=tuple(list1)\n",
    "print(\"the sample of tuple : \",s_tuple)\n",
    "print(\"the reverse tuple : \",rev_tuple)"
   ]
  },
  {
   "cell_type": "markdown",
   "id": "3cd347d1",
   "metadata": {},
   "source": [
    "**53-Write a Python program to replace the last value of tuples in a list.\n",
    "Sample list: [(10, 20, 40), (40, 50, 60), (70, 80, 90)]\n",
    "Expected Output: [(10, 20, 100), (40, 50, 100), (70, 80, 100)]"
   ]
  },
  {
   "cell_type": "code",
   "execution_count": 145,
   "id": "3c4a2a4c",
   "metadata": {
    "ExecuteTime": {
     "end_time": "2023-04-05T11:43:01.444457Z",
     "start_time": "2023-04-05T11:42:59.571340Z"
    }
   },
   "outputs": [
    {
     "name": "stdout",
     "output_type": "stream",
     "text": [
      "enter the number you need to replace100\n",
      "the sample of list :  [(10, 20, 40), (40, 50, 60), (70, 80, 90)]\n",
      "the new list after replacing item :  [(10, 20, 100), (40, 50, 100), (70, 80, 100)]\n"
     ]
    }
   ],
   "source": [
    "s_list=[(10,20,40),(40,50,60),(70,80,90)]\n",
    "k=int(input(\"enter the number you need to replace: \"))\n",
    "\n",
    "print(\"the sample of list : \",s_list)\n",
    "\n",
    "new_list=[t[:-1]+(k,) for t in s_list]\n",
    "\n",
    "print(\"the new list after replacing item : \",new_list)\n"
   ]
  },
  {
   "cell_type": "code",
   "execution_count": 146,
   "id": "bf0b5bb0",
   "metadata": {
    "ExecuteTime": {
     "end_time": "2023-04-05T11:43:15.066350Z",
     "start_time": "2023-04-05T11:43:13.201517Z"
    }
   },
   "outputs": [
    {
     "name": "stdout",
     "output_type": "stream",
     "text": [
      "enter the number you need to replace: 100\n",
      "the sample of list :  [(10, 20, 40), (40, 50, 60), (70, 80, 90)]\n",
      "the new list after replacing item :  [(10, 20, 100), (40, 50, 100), (70, 80, 100)]\n"
     ]
    }
   ],
   "source": [
    "s_list=[(10,20,40),(40,50,60),(70,80,90)]\n",
    "\n",
    "k=int(input(\"enter the number you need to replace: \"))\n",
    "\n",
    "print(\"the sample of list : \",s_list)\n",
    "\n",
    "for i in range(len(s_list)):\n",
    "    new_list=list(s_list[i])\n",
    "    new_list[-1] = k\n",
    "    s_list[i]=tuple(new_list)\n",
    "    \n",
    "print(\"the new list after replacing item : \",s_list)"
   ]
  },
  {
   "cell_type": "markdown",
   "id": "76bb7b39",
   "metadata": {},
   "source": [
    "**54-Write a Python program to convert a given string list to a tuple\n",
    "Original string: python 3.0\n",
    "<class 'str'>\n",
    "Convert the said string to a tuple:\n",
    "('p', 'y', 't', 'h', 'o', 'n', '3', '.', '0')"
   ]
  },
  {
   "cell_type": "code",
   "execution_count": 194,
   "id": "51951937",
   "metadata": {
    "ExecuteTime": {
     "end_time": "2023-04-05T11:58:57.764406Z",
     "start_time": "2023-04-05T11:58:57.747392Z"
    }
   },
   "outputs": [
    {
     "name": "stdout",
     "output_type": "stream",
     "text": [
      "the Original string :  python 3.0\n",
      "the converted string to tuple :  ('p', 'y', 't', 'h', 'o', 'n', ' ', '3', '.', '0')\n"
     ]
    }
   ],
   "source": [
    "originalstring='python 3.0'\n",
    "\n",
    "print(\"the Original string : \",originalstring)\n",
    "\n",
    "new_tuple=tuple(originalstring)\n",
    "\n",
    "print(\"the converted string to tuple : \",new_tuple)"
   ]
  },
  {
   "cell_type": "code",
   "execution_count": 3,
   "id": "353fefb2",
   "metadata": {
    "ExecuteTime": {
     "end_time": "2023-04-05T12:00:50.819202Z",
     "start_time": "2023-04-05T12:00:50.797191Z"
    }
   },
   "outputs": [
    {
     "name": "stdout",
     "output_type": "stream",
     "text": [
      "the Original string :  python 3.0\n",
      "the converted string to tuple :  ('p', 'y', 't', 'h', 'o', 'n', ' ', '3', '.', '0')\n"
     ]
    }
   ],
   "source": [
    "originalstring='python 3.0'\n",
    "\n",
    "print(\"the Original string : \",originalstring)\n",
    "\n",
    "new_tuple=()\n",
    "for char in (originalstring):\n",
    "    new_tuple=new_tuple+(char,)\n",
    "print(\"the converted string to tuple : \",new_tuple)"
   ]
  },
  {
   "cell_type": "markdown",
   "id": "5a1d5d97",
   "metadata": {},
   "source": [
    "**55-Write a Python program to calculate the average value of the numbers in a given tuple of tuples"
   ]
  },
  {
   "cell_type": "code",
   "execution_count": 28,
   "id": "834e7992",
   "metadata": {
    "ExecuteTime": {
     "end_time": "2023-04-05T12:19:21.207573Z",
     "start_time": "2023-04-05T12:19:21.185586Z"
    }
   },
   "outputs": [
    {
     "name": "stdout",
     "output_type": "stream",
     "text": [
      "the original tuple of numbers:  [(3, 5, 4, 6), (21, 30, 10, 4), (8, 81, 34, 332), (156, 532, 513, 754)]\n",
      "the average value of numbers:  (4.5, 16.25, 113.75, 488.75)\n"
     ]
    }
   ],
   "source": [
    "nums= ((3, 5, 4, 6), (21, 30, 10, 4), (8, 81, 34, 332), (156, 532, 513, 754))\n",
    "\n",
    "nums=list(nums)\n",
    "new_tuple=()\n",
    "for i in nums:\n",
    "    new_tuple=new_tuple+(sum(i)/len(i),)\n",
    "\n",
    "print (\"the original tuple of numbers: \",nums)    \n",
    "\n",
    "print (\"the average value of numbers: \",new_tuple)  \n"
   ]
  },
  {
   "cell_type": "markdown",
   "id": "51edab9c",
   "metadata": {},
   "source": [
    "**56-Write a Python program to add member(s) to a set."
   ]
  },
  {
   "cell_type": "code",
   "execution_count": 47,
   "id": "2b65df79",
   "metadata": {
    "ExecuteTime": {
     "end_time": "2023-04-05T12:25:36.837216Z",
     "start_time": "2023-04-05T12:25:36.816228Z"
    }
   },
   "outputs": [
    {
     "name": "stdout",
     "output_type": "stream",
     "text": [
      "the sample set :  {32, 465, 'ahmed', 20, 1897, 'ali', 15}\n",
      "the new set after adding an element:  {32, 465, 'ahmed', 20, 100, 1897, 'ali', 15}\n",
      "the new set after adding an element:  {15, 465, 20, 32, 'ahmed', 100, 1897, 'okba', 'ali'}\n"
     ]
    }
   ],
   "source": [
    "s_set={15,32,\"ali\",20,465,1897,\"ahmed\"}\n",
    "\n",
    "print(\"the sample set : \", s_set)\n",
    "\n",
    "s_set.add(100)\n",
    "\n",
    "print(\"the new set after adding an element: \", s_set)\n",
    "\n",
    "s_set.add(\"okba\")\n",
    "\n",
    "print(\"the new set after adding an element: \", s_set)"
   ]
  },
  {
   "cell_type": "markdown",
   "id": "965590cc",
   "metadata": {},
   "source": [
    "**57-Write a Python program to remove an item from a set if it is present in the set."
   ]
  },
  {
   "cell_type": "code",
   "execution_count": 73,
   "id": "866bab28",
   "metadata": {
    "ExecuteTime": {
     "end_time": "2023-04-05T20:08:28.883118Z",
     "start_time": "2023-04-05T20:08:24.719720Z"
    }
   },
   "outputs": [
    {
     "name": "stdout",
     "output_type": "stream",
     "text": [
      "enter the value of item you need to remove: 15\n",
      "the sample set :  {32, 465, 'ahmed', 20, 1897, 'ali', 15}\n",
      "the new set after adding an element:  {32, 465, 'ahmed', 20, 1897, 'ali'}\n"
     ]
    }
   ],
   "source": [
    "s_set={15,32,\"ali\",20,465,1897,\"ahmed\"}\n",
    "ele1= int(input(\"enter the value of item you need to remove: \"))\n",
    "\n",
    "print(\"the sample set : \", s_set)\n",
    "\n",
    "if ele1 in s_set:     \n",
    "    s_set.remove(ele1)\n",
    "    print(\"the new set after adding an element: \", s_set)\n",
    "        \n",
    "else:\n",
    "    print (\"this item is n't found in this set\") \n"
   ]
  },
  {
   "cell_type": "markdown",
   "id": "2b7cfed1",
   "metadata": {},
   "source": [
    "**58-Write a Python program to create an intersection,union,difference and symmetric difference of sets"
   ]
  },
  {
   "cell_type": "code",
   "execution_count": 83,
   "id": "7f94b7fe",
   "metadata": {
    "ExecuteTime": {
     "end_time": "2023-04-05T20:31:18.761613Z",
     "start_time": "2023-04-05T20:31:18.746600Z"
    }
   },
   "outputs": [
    {
     "name": "stdout",
     "output_type": "stream",
     "text": [
      "the original sets :  {0, 2, 4, 6, 8} and {1, 2, 3, 4, 5}\n",
      "the Union of sets : {0, 1, 2, 3, 4, 5, 6, 8}\n",
      "the Intersection of sets : {2, 4}\n",
      "the Intersection of sets : {2, 4}\n",
      "the Difference of sets : {0, 8, 6}\n",
      "the Difference of sets : {0, 8, 6}\n",
      "the Symmetric difference of sets: {0, 1, 3, 5, 6, 8}\n"
     ]
    }
   ],
   "source": [
    "set1= {0, 2, 4, 6, 8}\n",
    "set2= {1, 2, 3, 4, 5}\n",
    "  \n",
    "print(\"the original sets : \" ,set1,'and', set2)\n",
    "\n",
    "print(\"the Union of sets :\", set1 | set2)\n",
    "  \n",
    "#The intersection of two given set1 and set2 is a set which consists of all the elements which are common to both set1 and set2.\n",
    "\n",
    "print(\"the Intersection of sets :\", set1 & set2)\n",
    "print(\"the Intersection of sets :\", set1.intersection(set2))\n",
    "  \n",
    "# difference set1 - set2 is equal to the elements present in set1 but not in set2\n",
    "\n",
    "print(\"the Difference of sets :\", set1 - set2)                  \n",
    "print(\"the Difference of sets :\", set1.difference(set2))\n",
    "  \n",
    "\n",
    "print(\"the Symmetric difference of sets:\", set1 ^ set2)\n"
   ]
  },
  {
   "cell_type": "markdown",
   "id": "a4045c88",
   "metadata": {},
   "source": [
    "Mathematical operations for set:\n",
    "\n",
    "Union: | operator, union()\n",
    "Intersection: & operator, intersection()\n",
    "Difference: - operator, difference()\n",
    "Symmetric difference: ^ operator, symmetric_difference()\n",
    "Test if A is a subset of B: <= operator, issubset()\n",
    "Test if A is a superset of B: >= operator, issuperset()\n",
    "Test if A and B are disjoint: isdisjoint()"
   ]
  },
  {
   "cell_type": "markdown",
   "id": "b94931e2",
   "metadata": {},
   "source": [
    "**59-Write a Python program to find the maximum and minimum values in a set"
   ]
  },
  {
   "cell_type": "code",
   "execution_count": 86,
   "id": "203f9600",
   "metadata": {
    "ExecuteTime": {
     "end_time": "2023-04-05T20:42:09.554093Z",
     "start_time": "2023-04-05T20:42:09.543077Z"
    }
   },
   "outputs": [
    {
     "name": "stdout",
     "output_type": "stream",
     "text": [
      "the original set:  {1, 2, 3, 4, 5}\n",
      "the maximum value of set:  5\n",
      "the minimum value of set:  1\n"
     ]
    }
   ],
   "source": [
    "s_set={1, 2, 3, 4, 5}\n",
    "\n",
    "print(\"the original set: \", s_set)\n",
    "\n",
    "print (\"the maximum value of set: \", max(s_set))\n",
    "\n",
    "print (\"the minimum value of set: \", min(s_set))"
   ]
  },
  {
   "cell_type": "markdown",
   "id": "255fd554",
   "metadata": {},
   "source": [
    "**60- Write a Python program that finds all pairs of elements in a list whose sum is equal to a given value."
   ]
  },
  {
   "cell_type": "code",
   "execution_count": 94,
   "id": "c2d94e1f",
   "metadata": {
    "ExecuteTime": {
     "end_time": "2023-04-05T21:07:19.913991Z",
     "start_time": "2023-04-05T21:06:59.124671Z"
    }
   },
   "outputs": [
    {
     "name": "stdout",
     "output_type": "stream",
     "text": [
      "enter the length of list: 9\n",
      "enter the elements of list: 4\n",
      "enter the elements of list: 0\n",
      "enter the elements of list: 3\n",
      "enter the elements of list: 7\n",
      "enter the elements of list: 6\n",
      "enter the elements of list: 4\n",
      "enter the elements of list: 8\n",
      "enter the elements of list: 2\n",
      "enter the elements of list: 6\n",
      "the sample list:  [4, 0, 3, 7, 6, 4, 8, 2, 6]\n",
      "enter the sum of pairs elements of list: 10\n",
      "the pairs of elements in a list [(4, 6), (4, 6), (3, 7), (6, 4), (4, 6), (8, 2)]\n"
     ]
    }
   ],
   "source": [
    "n=int(input(\"enter the length of list: \"))\n",
    "list1=[]\n",
    "for i in range (n):\n",
    "    ele=int(input(\"enter the elements of list: \"))\n",
    "    list1.append(ele)\n",
    "print(\"the sample list: \",list1)\n",
    "\n",
    "K=int(input(\"enter the sum of pairs elements of list: \"))\n",
    "result = []\n",
    "for i in range(len(list1)):\n",
    "    for j in range(i + 1, len(list1)):\n",
    "        if list1[i] + list1[j] == K:\n",
    "                result.append((list1[i], list1[j]))\n",
    "\n",
    "print(\"the pairs of elements in a list\",result)"
   ]
  }
 ],
 "metadata": {
  "kernelspec": {
   "display_name": "Python 3 (ipykernel)",
   "language": "python",
   "name": "python3"
  },
  "language_info": {
   "codemirror_mode": {
    "name": "ipython",
    "version": 3
   },
   "file_extension": ".py",
   "mimetype": "text/x-python",
   "name": "python",
   "nbconvert_exporter": "python",
   "pygments_lexer": "ipython3",
   "version": "3.9.13"
  },
  "varInspector": {
   "cols": {
    "lenName": 16,
    "lenType": 16,
    "lenVar": 40
   },
   "kernels_config": {
    "python": {
     "delete_cmd_postfix": "",
     "delete_cmd_prefix": "del ",
     "library": "var_list.py",
     "varRefreshCmd": "print(var_dic_list())"
    },
    "r": {
     "delete_cmd_postfix": ") ",
     "delete_cmd_prefix": "rm(",
     "library": "var_list.r",
     "varRefreshCmd": "cat(var_dic_list()) "
    }
   },
   "types_to_exclude": [
    "module",
    "function",
    "builtin_function_or_method",
    "instance",
    "_Feature"
   ],
   "window_display": false
  }
 },
 "nbformat": 4,
 "nbformat_minor": 5
}
